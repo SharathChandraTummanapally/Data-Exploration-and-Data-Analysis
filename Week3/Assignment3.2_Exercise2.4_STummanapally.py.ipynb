{
 "cells": [
  {
   "cell_type": "code",
   "execution_count": 17,
   "id": "47df71f5",
   "metadata": {},
   "outputs": [
    {
     "data": {
      "image/png": "[encoded data removed]",
      "text/plain": [
       "<Figure size 432x288 with 1 Axes>"
      ]
     },
     "metadata": {
      "needs_background": "light"
     },
     "output_type": "display_data"
    },
    {
     "name": "stdout",
     "output_type": "stream",
     "text": [
      "mean difference in weight -0.13\n",
      "variance difference in weight 0.08\n",
      "standard deviation difference in weight 0.03\n",
      "Cohen's difference between two groups of total weight: -0.089\n",
      "Cohen's difference between two groups of pregnancy length: 0.029\n"
     ]
    },
    {
     "data": {
      "text/plain": [
       "<Figure size 576x432 with 0 Axes>"
      ]
     },
     "metadata": {},
     "output_type": "display_data"
    }
   ],
   "source": [
    "import thinkstats2\n",
    "import thinkplot\n",
    "import nsfg\n",
    "import math\n",
    "\n",
    "def CohenEffectSize(group1, group2):\n",
    "    \"\"\"Function to calculate cohen's d to quantify the difference between the groups.\"\"\"\n",
    "    diff = group1.mean() - group2.mean()\n",
    "    var1 = group1.var()\n",
    "    var2 = group2.var()\n",
    "    n1, n2 = len(group1), len(group2)\n",
    "    pooled_var = (n1 * var1 + n2 * var2) / (n1 + n2)\n",
    "    d = diff / math.sqrt(pooled_var)\n",
    "    return d\n",
    "\n",
    "# Getting the pregnancy data to preg dataframe.\n",
    "preg = nsfg.ReadFemPreg()\n",
    "\n",
    "# Getting the Live birth's dataframe from preg dataframe.\n",
    "live = preg[preg.outcome == 1]\n",
    "\n",
    "# dividing to two dataframes of first and other births.\n",
    "firsts = live[live.birthord == 1]\n",
    "others = live[live.birthord != 1]\n",
    "\n",
    "# Creating two histograms of first and other births by total weight in lb's.\n",
    "first_hist = thinkstats2.Hist(firsts.totalwgt_lb, label='first')\n",
    "other_hist = thinkstats2.Hist(others.totalwgt_lb, label='other')\n",
    "\n",
    "# Plotting two histograms side by side to compare.\n",
    "width = 0.02\n",
    "thinkplot.PrePlot(2)\n",
    "thinkplot.Hist(first_hist, align='right', width=width)\n",
    "thinkplot.Hist(other_hist, align='left', width=width)\n",
    "thinkplot.Show(xlabel='pounds', ylabel='frequency')\n",
    "\n",
    "# Calculating mean and variance by weight.\n",
    "mean1 = round(firsts.totalwgt_lb.mean(),2)\n",
    "mean2 = round(others.totalwgt_lb.mean(),2)\n",
    "var1 = round(firsts.totalwgt_lb.var(),2)\n",
    "var2 = round(others.totalwgt_lb.var(),2)\n",
    "std1 = round(firsts.totalwgt_lb.std(),2)\n",
    "std2 = round(others.totalwgt_lb.std(),2)\n",
    "\n",
    "print('mean difference in weight', round(mean1-mean2,2))\n",
    "print('variance difference in weight', round(var1-var2,2))\n",
    "print('standard deviation difference in weight', round(std1-std2,2))\n",
    "\n",
    "# Calculating and printing cohen's d by weight.\n",
    "cohen_diff = CohenEffectSize(firsts.totalwgt_lb, others.totalwgt_lb)\n",
    "print(\"Cohen's difference between two groups of total weight:\", round(cohen_diff,3))\n",
    "\n",
    "# Calculating and printing cohen's d by pregnancy length.\n",
    "cohen_diff1 = CohenEffectSize(firsts.prglngth, others.prglngth)\n",
    "print(\"Cohen's difference between two groups of pregnancy length:\", round(cohen_diff1,3))\n"
   ]
  },
  {
   "cell_type": "code",
   "execution_count": null,
   "id": "1d92c667",
   "metadata": {},
   "outputs": [],
   "source": []
  }
 ],
 "metadata": {
  "kernelspec": {
   "display_name": "Python 3",
   "language": "python",
   "name": "python3"
  },
  "language_info": {
   "codemirror_mode": {
    "name": "ipython",
    "version": 3
   },
   "file_extension": ".py",
   "mimetype": "text/x-python",
   "name": "python",
   "nbconvert_exporter": "python",
   "pygments_lexer": "ipython3",
   "version": "3.8.8"
  }
 },
 "nbformat": 4,
 "nbformat_minor": 5
}
