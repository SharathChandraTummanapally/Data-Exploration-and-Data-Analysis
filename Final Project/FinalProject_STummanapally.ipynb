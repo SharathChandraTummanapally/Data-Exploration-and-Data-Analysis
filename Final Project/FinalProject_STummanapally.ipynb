{
 "cells": [
  {
   "cell_type": "markdown",
   "id": "161e0cf4",
   "metadata": {},
   "source": [
    "## Research Topic: Is it possible for a company to develop its business by researching the personality of its ideal customers?"
   ]
  },
  {
   "cell_type": "markdown",
   "id": "8a5576c2",
   "metadata": {},
   "source": [
    "### Merge at least two datasets. Consider a minimum of 5 numeric variables in your dataset. What variables you think could have an impact on your question?"
   ]
  },
  {
   "cell_type": "code",
   "execution_count": 2,
   "id": "a4b33e2c",
   "metadata": {},
   "outputs": [],
   "source": [
    "from __future__ import print_function, division\n",
    "%matplotlib inline\n",
    "import matplotlib\n",
    "import numpy as np\n",
    "import pandas as pd\n",
    "import random\n",
    "import thinkstats2\n",
    "import thinkplot\n",
    "import scipy.stats\n",
    "import statsmodels.formula.api as smf"
   ]
  },
  {
   "cell_type": "code",
   "execution_count": 3,
   "id": "e14f78c3",
   "metadata": {},
   "outputs": [
    {
     "data": {
      "text/html": [
       "<div>\n",
       "<style scoped>\n",
       "    .dataframe tbody tr th:only-of-type {\n",
       "        vertical-align: middle;\n",
       "    }\n",
       "\n",
       "    .dataframe tbody tr th {\n",
       "        vertical-align: top;\n",
       "    }\n",
       "\n",
       "    .dataframe thead th {\n",
       "        text-align: right;\n",
       "    }\n",
       "</style>\n",
       "<table border=\"1\" class=\"dataframe\">\n",
       "  <thead>\n",
       "    <tr style=\"text-align: right;\">\n",
       "      <th></th>\n",
       "      <th>ID_x</th>\n",
       "      <th>Year_Birth</th>\n",
       "      <th>Education</th>\n",
       "      <th>Marital_Status</th>\n",
       "      <th>Income</th>\n",
       "      <th>Kidhome</th>\n",
       "      <th>Teenhome</th>\n",
       "      <th>Dt_Customer</th>\n",
       "      <th>Recency</th>\n",
       "      <th>Complain</th>\n",
       "      <th>...</th>\n",
       "      <th>NumStorePurchases</th>\n",
       "      <th>NumWebVisitsMonth</th>\n",
       "      <th>AcceptedCmp3</th>\n",
       "      <th>AcceptedCmp4</th>\n",
       "      <th>AcceptedCmp5</th>\n",
       "      <th>AcceptedCmp1</th>\n",
       "      <th>AcceptedCmp2</th>\n",
       "      <th>Z_CostContact</th>\n",
       "      <th>Z_Revenue</th>\n",
       "      <th>Response</th>\n",
       "    </tr>\n",
       "  </thead>\n",
       "  <tbody>\n",
       "    <tr>\n",
       "      <th>0</th>\n",
       "      <td>5524</td>\n",
       "      <td>1957</td>\n",
       "      <td>Graduation</td>\n",
       "      <td>Single</td>\n",
       "      <td>58138.0</td>\n",
       "      <td>0</td>\n",
       "      <td>0</td>\n",
       "      <td>4/9/12</td>\n",
       "      <td>58</td>\n",
       "      <td>0</td>\n",
       "      <td>...</td>\n",
       "      <td>4</td>\n",
       "      <td>7</td>\n",
       "      <td>0</td>\n",
       "      <td>0</td>\n",
       "      <td>0</td>\n",
       "      <td>0</td>\n",
       "      <td>0</td>\n",
       "      <td>3</td>\n",
       "      <td>11</td>\n",
       "      <td>1</td>\n",
       "    </tr>\n",
       "    <tr>\n",
       "      <th>1</th>\n",
       "      <td>2174</td>\n",
       "      <td>1954</td>\n",
       "      <td>Graduation</td>\n",
       "      <td>Single</td>\n",
       "      <td>46344.0</td>\n",
       "      <td>1</td>\n",
       "      <td>1</td>\n",
       "      <td>8/3/14</td>\n",
       "      <td>38</td>\n",
       "      <td>0</td>\n",
       "      <td>...</td>\n",
       "      <td>2</td>\n",
       "      <td>5</td>\n",
       "      <td>0</td>\n",
       "      <td>0</td>\n",
       "      <td>0</td>\n",
       "      <td>0</td>\n",
       "      <td>0</td>\n",
       "      <td>3</td>\n",
       "      <td>11</td>\n",
       "      <td>0</td>\n",
       "    </tr>\n",
       "    <tr>\n",
       "      <th>2</th>\n",
       "      <td>4141</td>\n",
       "      <td>1965</td>\n",
       "      <td>Graduation</td>\n",
       "      <td>Together</td>\n",
       "      <td>71613.0</td>\n",
       "      <td>0</td>\n",
       "      <td>0</td>\n",
       "      <td>21-08-2013</td>\n",
       "      <td>26</td>\n",
       "      <td>0</td>\n",
       "      <td>...</td>\n",
       "      <td>10</td>\n",
       "      <td>4</td>\n",
       "      <td>0</td>\n",
       "      <td>0</td>\n",
       "      <td>0</td>\n",
       "      <td>0</td>\n",
       "      <td>0</td>\n",
       "      <td>3</td>\n",
       "      <td>11</td>\n",
       "      <td>0</td>\n",
       "    </tr>\n",
       "    <tr>\n",
       "      <th>3</th>\n",
       "      <td>6182</td>\n",
       "      <td>1984</td>\n",
       "      <td>Graduation</td>\n",
       "      <td>Together</td>\n",
       "      <td>26646.0</td>\n",
       "      <td>1</td>\n",
       "      <td>0</td>\n",
       "      <td>10/2/14</td>\n",
       "      <td>26</td>\n",
       "      <td>0</td>\n",
       "      <td>...</td>\n",
       "      <td>4</td>\n",
       "      <td>6</td>\n",
       "      <td>0</td>\n",
       "      <td>0</td>\n",
       "      <td>0</td>\n",
       "      <td>0</td>\n",
       "      <td>0</td>\n",
       "      <td>3</td>\n",
       "      <td>11</td>\n",
       "      <td>0</td>\n",
       "    </tr>\n",
       "    <tr>\n",
       "      <th>4</th>\n",
       "      <td>5324</td>\n",
       "      <td>1981</td>\n",
       "      <td>PhD</td>\n",
       "      <td>Married</td>\n",
       "      <td>58293.0</td>\n",
       "      <td>1</td>\n",
       "      <td>0</td>\n",
       "      <td>19-01-2014</td>\n",
       "      <td>94</td>\n",
       "      <td>0</td>\n",
       "      <td>...</td>\n",
       "      <td>6</td>\n",
       "      <td>5</td>\n",
       "      <td>0</td>\n",
       "      <td>0</td>\n",
       "      <td>0</td>\n",
       "      <td>0</td>\n",
       "      <td>0</td>\n",
       "      <td>3</td>\n",
       "      <td>11</td>\n",
       "      <td>0</td>\n",
       "    </tr>\n",
       "  </tbody>\n",
       "</table>\n",
       "<p>5 rows × 30 columns</p>\n",
       "</div>"
      ],
      "text/plain": [
       "   ID_x  Year_Birth   Education Marital_Status   Income  Kidhome  Teenhome  \\\n",
       "0  5524        1957  Graduation         Single  58138.0        0         0   \n",
       "1  2174        1954  Graduation         Single  46344.0        1         1   \n",
       "2  4141        1965  Graduation       Together  71613.0        0         0   \n",
       "3  6182        1984  Graduation       Together  26646.0        1         0   \n",
       "4  5324        1981         PhD        Married  58293.0        1         0   \n",
       "\n",
       "  Dt_Customer  Recency  Complain  ...  NumStorePurchases  NumWebVisitsMonth  \\\n",
       "0      4/9/12       58         0  ...                  4                  7   \n",
       "1      8/3/14       38         0  ...                  2                  5   \n",
       "2  21-08-2013       26         0  ...                 10                  4   \n",
       "3     10/2/14       26         0  ...                  4                  6   \n",
       "4  19-01-2014       94         0  ...                  6                  5   \n",
       "\n",
       "   AcceptedCmp3  AcceptedCmp4  AcceptedCmp5  AcceptedCmp1  AcceptedCmp2  \\\n",
       "0             0             0             0             0             0   \n",
       "1             0             0             0             0             0   \n",
       "2             0             0             0             0             0   \n",
       "3             0             0             0             0             0   \n",
       "4             0             0             0             0             0   \n",
       "\n",
       "   Z_CostContact  Z_Revenue  Response  \n",
       "0              3         11         1  \n",
       "1              3         11         0  \n",
       "2              3         11         0  \n",
       "3              3         11         0  \n",
       "4              3         11         0  \n",
       "\n",
       "[5 rows x 30 columns]"
      ]
     },
     "execution_count": 3,
     "metadata": {},
     "output_type": "execute_result"
    }
   ],
   "source": [
    "# Loading customer profile data to dataframe.\n",
    "cust_prof_df = pd.read_csv(\"CPA_CustomerProfile.csv\", sep=',')\n",
    "# Loading customer marketing data to dataframe.\n",
    "cust_mkt_df = pd.read_csv(\"CPA_Marketing.csv\", sep=',')\n",
    "\n",
    "# Merging \n",
    "cust_df = pd.merge(cust_prof_df, cust_mkt_df, left_index=True, right_index=True)\n",
    "\n",
    "cust_df.head()"
   ]
  },
  {
   "cell_type": "code",
   "execution_count": 4,
   "id": "8bc29f8f",
   "metadata": {},
   "outputs": [
    {
     "data": {
      "text/html": [
       "<div>\n",
       "<style scoped>\n",
       "    .dataframe tbody tr th:only-of-type {\n",
       "        vertical-align: middle;\n",
       "    }\n",
       "\n",
       "    .dataframe tbody tr th {\n",
       "        vertical-align: top;\n",
       "    }\n",
       "\n",
       "    .dataframe thead th {\n",
       "        text-align: right;\n",
       "    }\n",
       "</style>\n",
       "<table border=\"1\" class=\"dataframe\">\n",
       "  <thead>\n",
       "    <tr style=\"text-align: right;\">\n",
       "      <th></th>\n",
       "      <th>ID_x</th>\n",
       "      <th>Year_Birth</th>\n",
       "      <th>Education</th>\n",
       "      <th>Marital_Status</th>\n",
       "      <th>Income</th>\n",
       "      <th>Kidhome</th>\n",
       "      <th>Teenhome</th>\n",
       "      <th>Dt_Customer</th>\n",
       "      <th>Recency</th>\n",
       "      <th>Complain</th>\n",
       "      <th>...</th>\n",
       "      <th>NumStorePurchases</th>\n",
       "      <th>NumWebVisitsMonth</th>\n",
       "      <th>AcceptedCmp3</th>\n",
       "      <th>AcceptedCmp4</th>\n",
       "      <th>AcceptedCmp5</th>\n",
       "      <th>AcceptedCmp1</th>\n",
       "      <th>AcceptedCmp2</th>\n",
       "      <th>Z_CostContact</th>\n",
       "      <th>Z_Revenue</th>\n",
       "      <th>Response</th>\n",
       "    </tr>\n",
       "  </thead>\n",
       "  <tbody>\n",
       "    <tr>\n",
       "      <th>2235</th>\n",
       "      <td>10870</td>\n",
       "      <td>1967</td>\n",
       "      <td>Graduation</td>\n",
       "      <td>Married</td>\n",
       "      <td>61223.0</td>\n",
       "      <td>0</td>\n",
       "      <td>1</td>\n",
       "      <td>13-06-2013</td>\n",
       "      <td>46</td>\n",
       "      <td>0</td>\n",
       "      <td>...</td>\n",
       "      <td>4</td>\n",
       "      <td>5</td>\n",
       "      <td>0</td>\n",
       "      <td>0</td>\n",
       "      <td>0</td>\n",
       "      <td>0</td>\n",
       "      <td>0</td>\n",
       "      <td>3</td>\n",
       "      <td>11</td>\n",
       "      <td>0</td>\n",
       "    </tr>\n",
       "    <tr>\n",
       "      <th>2236</th>\n",
       "      <td>4001</td>\n",
       "      <td>1946</td>\n",
       "      <td>PhD</td>\n",
       "      <td>Together</td>\n",
       "      <td>64014.0</td>\n",
       "      <td>2</td>\n",
       "      <td>1</td>\n",
       "      <td>10/6/14</td>\n",
       "      <td>56</td>\n",
       "      <td>0</td>\n",
       "      <td>...</td>\n",
       "      <td>5</td>\n",
       "      <td>7</td>\n",
       "      <td>0</td>\n",
       "      <td>0</td>\n",
       "      <td>0</td>\n",
       "      <td>1</td>\n",
       "      <td>0</td>\n",
       "      <td>3</td>\n",
       "      <td>11</td>\n",
       "      <td>0</td>\n",
       "    </tr>\n",
       "    <tr>\n",
       "      <th>2237</th>\n",
       "      <td>7270</td>\n",
       "      <td>1981</td>\n",
       "      <td>Graduation</td>\n",
       "      <td>Divorced</td>\n",
       "      <td>56981.0</td>\n",
       "      <td>0</td>\n",
       "      <td>0</td>\n",
       "      <td>25-01-2014</td>\n",
       "      <td>91</td>\n",
       "      <td>0</td>\n",
       "      <td>...</td>\n",
       "      <td>13</td>\n",
       "      <td>6</td>\n",
       "      <td>0</td>\n",
       "      <td>1</td>\n",
       "      <td>0</td>\n",
       "      <td>0</td>\n",
       "      <td>0</td>\n",
       "      <td>3</td>\n",
       "      <td>11</td>\n",
       "      <td>0</td>\n",
       "    </tr>\n",
       "    <tr>\n",
       "      <th>2238</th>\n",
       "      <td>8235</td>\n",
       "      <td>1956</td>\n",
       "      <td>Master</td>\n",
       "      <td>Together</td>\n",
       "      <td>69245.0</td>\n",
       "      <td>0</td>\n",
       "      <td>1</td>\n",
       "      <td>24-01-2014</td>\n",
       "      <td>8</td>\n",
       "      <td>0</td>\n",
       "      <td>...</td>\n",
       "      <td>10</td>\n",
       "      <td>3</td>\n",
       "      <td>0</td>\n",
       "      <td>0</td>\n",
       "      <td>0</td>\n",
       "      <td>0</td>\n",
       "      <td>0</td>\n",
       "      <td>3</td>\n",
       "      <td>11</td>\n",
       "      <td>0</td>\n",
       "    </tr>\n",
       "    <tr>\n",
       "      <th>2239</th>\n",
       "      <td>9405</td>\n",
       "      <td>1954</td>\n",
       "      <td>PhD</td>\n",
       "      <td>Married</td>\n",
       "      <td>52869.0</td>\n",
       "      <td>1</td>\n",
       "      <td>1</td>\n",
       "      <td>15-10-2012</td>\n",
       "      <td>40</td>\n",
       "      <td>0</td>\n",
       "      <td>...</td>\n",
       "      <td>4</td>\n",
       "      <td>7</td>\n",
       "      <td>0</td>\n",
       "      <td>0</td>\n",
       "      <td>0</td>\n",
       "      <td>0</td>\n",
       "      <td>0</td>\n",
       "      <td>3</td>\n",
       "      <td>11</td>\n",
       "      <td>1</td>\n",
       "    </tr>\n",
       "  </tbody>\n",
       "</table>\n",
       "<p>5 rows × 30 columns</p>\n",
       "</div>"
      ],
      "text/plain": [
       "       ID_x  Year_Birth   Education Marital_Status   Income  Kidhome  \\\n",
       "2235  10870        1967  Graduation        Married  61223.0        0   \n",
       "2236   4001        1946         PhD       Together  64014.0        2   \n",
       "2237   7270        1981  Graduation       Divorced  56981.0        0   \n",
       "2238   8235        1956      Master       Together  69245.0        0   \n",
       "2239   9405        1954         PhD        Married  52869.0        1   \n",
       "\n",
       "      Teenhome Dt_Customer  Recency  Complain  ...  NumStorePurchases  \\\n",
       "2235         1  13-06-2013       46         0  ...                  4   \n",
       "2236         1     10/6/14       56         0  ...                  5   \n",
       "2237         0  25-01-2014       91         0  ...                 13   \n",
       "2238         1  24-01-2014        8         0  ...                 10   \n",
       "2239         1  15-10-2012       40         0  ...                  4   \n",
       "\n",
       "      NumWebVisitsMonth  AcceptedCmp3  AcceptedCmp4  AcceptedCmp5  \\\n",
       "2235                  5             0             0             0   \n",
       "2236                  7             0             0             0   \n",
       "2237                  6             0             1             0   \n",
       "2238                  3             0             0             0   \n",
       "2239                  7             0             0             0   \n",
       "\n",
       "      AcceptedCmp1  AcceptedCmp2  Z_CostContact  Z_Revenue  Response  \n",
       "2235             0             0              3         11         0  \n",
       "2236             1             0              3         11         0  \n",
       "2237             0             0              3         11         0  \n",
       "2238             0             0              3         11         0  \n",
       "2239             0             0              3         11         1  \n",
       "\n",
       "[5 rows x 30 columns]"
      ]
     },
     "execution_count": 4,
     "metadata": {},
     "output_type": "execute_result"
    }
   ],
   "source": [
    "cust_df.tail()"
   ]
  },
  {
   "cell_type": "code",
   "execution_count": 5,
   "id": "204eb725",
   "metadata": {},
   "outputs": [
    {
     "data": {
      "text/html": [
       "<div>\n",
       "<style scoped>\n",
       "    .dataframe tbody tr th:only-of-type {\n",
       "        vertical-align: middle;\n",
       "    }\n",
       "\n",
       "    .dataframe tbody tr th {\n",
       "        vertical-align: top;\n",
       "    }\n",
       "\n",
       "    .dataframe thead th {\n",
       "        text-align: right;\n",
       "    }\n",
       "</style>\n",
       "<table border=\"1\" class=\"dataframe\">\n",
       "  <thead>\n",
       "    <tr style=\"text-align: right;\">\n",
       "      <th></th>\n",
       "      <th>ID_x</th>\n",
       "      <th>Year_Birth</th>\n",
       "      <th>Income</th>\n",
       "      <th>Kidhome</th>\n",
       "      <th>Teenhome</th>\n",
       "      <th>Recency</th>\n",
       "      <th>Complain</th>\n",
       "      <th>ID_y</th>\n",
       "      <th>MntWines</th>\n",
       "      <th>MntFruits</th>\n",
       "      <th>...</th>\n",
       "      <th>NumStorePurchases</th>\n",
       "      <th>NumWebVisitsMonth</th>\n",
       "      <th>AcceptedCmp3</th>\n",
       "      <th>AcceptedCmp4</th>\n",
       "      <th>AcceptedCmp5</th>\n",
       "      <th>AcceptedCmp1</th>\n",
       "      <th>AcceptedCmp2</th>\n",
       "      <th>Z_CostContact</th>\n",
       "      <th>Z_Revenue</th>\n",
       "      <th>Response</th>\n",
       "    </tr>\n",
       "  </thead>\n",
       "  <tbody>\n",
       "    <tr>\n",
       "      <th>count</th>\n",
       "      <td>2240.000000</td>\n",
       "      <td>2240.000000</td>\n",
       "      <td>2216.000000</td>\n",
       "      <td>2240.000000</td>\n",
       "      <td>2240.000000</td>\n",
       "      <td>2240.000000</td>\n",
       "      <td>2240.000000</td>\n",
       "      <td>2240.000000</td>\n",
       "      <td>2240.000000</td>\n",
       "      <td>2240.000000</td>\n",
       "      <td>...</td>\n",
       "      <td>2240.000000</td>\n",
       "      <td>2240.000000</td>\n",
       "      <td>2240.000000</td>\n",
       "      <td>2240.000000</td>\n",
       "      <td>2240.000000</td>\n",
       "      <td>2240.000000</td>\n",
       "      <td>2240.000000</td>\n",
       "      <td>2240.0</td>\n",
       "      <td>2240.0</td>\n",
       "      <td>2240.000000</td>\n",
       "    </tr>\n",
       "    <tr>\n",
       "      <th>mean</th>\n",
       "      <td>5592.159821</td>\n",
       "      <td>1968.805804</td>\n",
       "      <td>52247.251354</td>\n",
       "      <td>0.444196</td>\n",
       "      <td>0.506250</td>\n",
       "      <td>49.109375</td>\n",
       "      <td>0.009375</td>\n",
       "      <td>5592.159821</td>\n",
       "      <td>303.935714</td>\n",
       "      <td>26.302232</td>\n",
       "      <td>...</td>\n",
       "      <td>5.790179</td>\n",
       "      <td>5.316518</td>\n",
       "      <td>0.072768</td>\n",
       "      <td>0.074554</td>\n",
       "      <td>0.072768</td>\n",
       "      <td>0.064286</td>\n",
       "      <td>0.013393</td>\n",
       "      <td>3.0</td>\n",
       "      <td>11.0</td>\n",
       "      <td>0.149107</td>\n",
       "    </tr>\n",
       "    <tr>\n",
       "      <th>std</th>\n",
       "      <td>3246.662198</td>\n",
       "      <td>11.984069</td>\n",
       "      <td>25173.076661</td>\n",
       "      <td>0.538398</td>\n",
       "      <td>0.544538</td>\n",
       "      <td>28.962453</td>\n",
       "      <td>0.096391</td>\n",
       "      <td>3246.662198</td>\n",
       "      <td>336.597393</td>\n",
       "      <td>39.773434</td>\n",
       "      <td>...</td>\n",
       "      <td>3.250958</td>\n",
       "      <td>2.426645</td>\n",
       "      <td>0.259813</td>\n",
       "      <td>0.262728</td>\n",
       "      <td>0.259813</td>\n",
       "      <td>0.245316</td>\n",
       "      <td>0.114976</td>\n",
       "      <td>0.0</td>\n",
       "      <td>0.0</td>\n",
       "      <td>0.356274</td>\n",
       "    </tr>\n",
       "    <tr>\n",
       "      <th>min</th>\n",
       "      <td>0.000000</td>\n",
       "      <td>1893.000000</td>\n",
       "      <td>1730.000000</td>\n",
       "      <td>0.000000</td>\n",
       "      <td>0.000000</td>\n",
       "      <td>0.000000</td>\n",
       "      <td>0.000000</td>\n",
       "      <td>0.000000</td>\n",
       "      <td>0.000000</td>\n",
       "      <td>0.000000</td>\n",
       "      <td>...</td>\n",
       "      <td>0.000000</td>\n",
       "      <td>0.000000</td>\n",
       "      <td>0.000000</td>\n",
       "      <td>0.000000</td>\n",
       "      <td>0.000000</td>\n",
       "      <td>0.000000</td>\n",
       "      <td>0.000000</td>\n",
       "      <td>3.0</td>\n",
       "      <td>11.0</td>\n",
       "      <td>0.000000</td>\n",
       "    </tr>\n",
       "    <tr>\n",
       "      <th>25%</th>\n",
       "      <td>2828.250000</td>\n",
       "      <td>1959.000000</td>\n",
       "      <td>35303.000000</td>\n",
       "      <td>0.000000</td>\n",
       "      <td>0.000000</td>\n",
       "      <td>24.000000</td>\n",
       "      <td>0.000000</td>\n",
       "      <td>2828.250000</td>\n",
       "      <td>23.750000</td>\n",
       "      <td>1.000000</td>\n",
       "      <td>...</td>\n",
       "      <td>3.000000</td>\n",
       "      <td>3.000000</td>\n",
       "      <td>0.000000</td>\n",
       "      <td>0.000000</td>\n",
       "      <td>0.000000</td>\n",
       "      <td>0.000000</td>\n",
       "      <td>0.000000</td>\n",
       "      <td>3.0</td>\n",
       "      <td>11.0</td>\n",
       "      <td>0.000000</td>\n",
       "    </tr>\n",
       "    <tr>\n",
       "      <th>50%</th>\n",
       "      <td>5458.500000</td>\n",
       "      <td>1970.000000</td>\n",
       "      <td>51381.500000</td>\n",
       "      <td>0.000000</td>\n",
       "      <td>0.000000</td>\n",
       "      <td>49.000000</td>\n",
       "      <td>0.000000</td>\n",
       "      <td>5458.500000</td>\n",
       "      <td>173.500000</td>\n",
       "      <td>8.000000</td>\n",
       "      <td>...</td>\n",
       "      <td>5.000000</td>\n",
       "      <td>6.000000</td>\n",
       "      <td>0.000000</td>\n",
       "      <td>0.000000</td>\n",
       "      <td>0.000000</td>\n",
       "      <td>0.000000</td>\n",
       "      <td>0.000000</td>\n",
       "      <td>3.0</td>\n",
       "      <td>11.0</td>\n",
       "      <td>0.000000</td>\n",
       "    </tr>\n",
       "    <tr>\n",
       "      <th>75%</th>\n",
       "      <td>8427.750000</td>\n",
       "      <td>1977.000000</td>\n",
       "      <td>68522.000000</td>\n",
       "      <td>1.000000</td>\n",
       "      <td>1.000000</td>\n",
       "      <td>74.000000</td>\n",
       "      <td>0.000000</td>\n",
       "      <td>8427.750000</td>\n",
       "      <td>504.250000</td>\n",
       "      <td>33.000000</td>\n",
       "      <td>...</td>\n",
       "      <td>8.000000</td>\n",
       "      <td>7.000000</td>\n",
       "      <td>0.000000</td>\n",
       "      <td>0.000000</td>\n",
       "      <td>0.000000</td>\n",
       "      <td>0.000000</td>\n",
       "      <td>0.000000</td>\n",
       "      <td>3.0</td>\n",
       "      <td>11.0</td>\n",
       "      <td>0.000000</td>\n",
       "    </tr>\n",
       "    <tr>\n",
       "      <th>max</th>\n",
       "      <td>11191.000000</td>\n",
       "      <td>1996.000000</td>\n",
       "      <td>666666.000000</td>\n",
       "      <td>2.000000</td>\n",
       "      <td>2.000000</td>\n",
       "      <td>99.000000</td>\n",
       "      <td>1.000000</td>\n",
       "      <td>11191.000000</td>\n",
       "      <td>1493.000000</td>\n",
       "      <td>199.000000</td>\n",
       "      <td>...</td>\n",
       "      <td>13.000000</td>\n",
       "      <td>20.000000</td>\n",
       "      <td>1.000000</td>\n",
       "      <td>1.000000</td>\n",
       "      <td>1.000000</td>\n",
       "      <td>1.000000</td>\n",
       "      <td>1.000000</td>\n",
       "      <td>3.0</td>\n",
       "      <td>11.0</td>\n",
       "      <td>1.000000</td>\n",
       "    </tr>\n",
       "  </tbody>\n",
       "</table>\n",
       "<p>8 rows × 27 columns</p>\n",
       "</div>"
      ],
      "text/plain": [
       "               ID_x   Year_Birth         Income      Kidhome     Teenhome  \\\n",
       "count   2240.000000  2240.000000    2216.000000  2240.000000  2240.000000   \n",
       "mean    5592.159821  1968.805804   52247.251354     0.444196     0.506250   \n",
       "std     3246.662198    11.984069   25173.076661     0.538398     0.544538   \n",
       "min        0.000000  1893.000000    1730.000000     0.000000     0.000000   \n",
       "25%     2828.250000  1959.000000   35303.000000     0.000000     0.000000   \n",
       "50%     5458.500000  1970.000000   51381.500000     0.000000     0.000000   \n",
       "75%     8427.750000  1977.000000   68522.000000     1.000000     1.000000   \n",
       "max    11191.000000  1996.000000  666666.000000     2.000000     2.000000   \n",
       "\n",
       "           Recency     Complain          ID_y     MntWines    MntFruits  ...  \\\n",
       "count  2240.000000  2240.000000   2240.000000  2240.000000  2240.000000  ...   \n",
       "mean     49.109375     0.009375   5592.159821   303.935714    26.302232  ...   \n",
       "std      28.962453     0.096391   3246.662198   336.597393    39.773434  ...   \n",
       "min       0.000000     0.000000      0.000000     0.000000     0.000000  ...   \n",
       "25%      24.000000     0.000000   2828.250000    23.750000     1.000000  ...   \n",
       "50%      49.000000     0.000000   5458.500000   173.500000     8.000000  ...   \n",
       "75%      74.000000     0.000000   8427.750000   504.250000    33.000000  ...   \n",
       "max      99.000000     1.000000  11191.000000  1493.000000   199.000000  ...   \n",
       "\n",
       "       NumStorePurchases  NumWebVisitsMonth  AcceptedCmp3  AcceptedCmp4  \\\n",
       "count        2240.000000        2240.000000   2240.000000   2240.000000   \n",
       "mean            5.790179           5.316518      0.072768      0.074554   \n",
       "std             3.250958           2.426645      0.259813      0.262728   \n",
       "min             0.000000           0.000000      0.000000      0.000000   \n",
       "25%             3.000000           3.000000      0.000000      0.000000   \n",
       "50%             5.000000           6.000000      0.000000      0.000000   \n",
       "75%             8.000000           7.000000      0.000000      0.000000   \n",
       "max            13.000000          20.000000      1.000000      1.000000   \n",
       "\n",
       "       AcceptedCmp5  AcceptedCmp1  AcceptedCmp2  Z_CostContact  Z_Revenue  \\\n",
       "count   2240.000000   2240.000000   2240.000000         2240.0     2240.0   \n",
       "mean       0.072768      0.064286      0.013393            3.0       11.0   \n",
       "std        0.259813      0.245316      0.114976            0.0        0.0   \n",
       "min        0.000000      0.000000      0.000000            3.0       11.0   \n",
       "25%        0.000000      0.000000      0.000000            3.0       11.0   \n",
       "50%        0.000000      0.000000      0.000000            3.0       11.0   \n",
       "75%        0.000000      0.000000      0.000000            3.0       11.0   \n",
       "max        1.000000      1.000000      1.000000            3.0       11.0   \n",
       "\n",
       "          Response  \n",
       "count  2240.000000  \n",
       "mean      0.149107  \n",
       "std       0.356274  \n",
       "min       0.000000  \n",
       "25%       0.000000  \n",
       "50%       0.000000  \n",
       "75%       0.000000  \n",
       "max       1.000000  \n",
       "\n",
       "[8 rows x 27 columns]"
      ]
     },
     "execution_count": 5,
     "metadata": {},
     "output_type": "execute_result"
    }
   ],
   "source": [
    "cust_df.describe()"
   ]
  },
  {
   "cell_type": "markdown",
   "id": "e1c841b6",
   "metadata": {},
   "source": [
    "NumWebPurchases, NumStorePurchases, Income, Complain, NumWebVisitsMonth are the variables that have impact on my research question."
   ]
  },
  {
   "cell_type": "markdown",
   "id": "8ac2b5f2",
   "metadata": {},
   "source": [
    "### Describe what the 5 variables mean in the dataset (Chapter 1)"
   ]
  },
  {
   "cell_type": "markdown",
   "id": "f6031a72",
   "metadata": {},
   "source": [
    "**NumWebPurchases** is the integer ID of the Customer number of purchases on internet.\\\n",
    "**NumStorePurchases** is the integer ID of the Customer number of purchases in store.\\\n",
    "**Income** is the integer ID of the Customer's yearly household income.\\\n",
    "**Complain** is boolean value 1 if customer complained in the last 2 years, 0 otherwise.\\\n",
    "**NumWebVisitsMonth** is the integer ID of Number of visits to company’s web site in the last month."
   ]
  },
  {
   "cell_type": "markdown",
   "id": "852cbf5c",
   "metadata": {},
   "source": [
    "### Include a histogram of each of the 5 variables – in your summary and analysis, identify any outliers and explain the reasoning for them being outliers and how you believe they should be handled (Chapter 2)."
   ]
  },
  {
   "cell_type": "code",
   "execution_count": 6,
   "id": "023b82c9",
   "metadata": {},
   "outputs": [
    {
     "data": {
      "image/png": "[encoded data removed]",
      "text/plain": [
       "<Figure size 432x288 with 1 Axes>"
      ]
     },
     "metadata": {
      "needs_background": "light"
     },
     "output_type": "display_data"
    },
    {
     "data": {
      "text/plain": [
       "<Figure size 576x432 with 0 Axes>"
      ]
     },
     "metadata": {},
     "output_type": "display_data"
    }
   ],
   "source": [
    "hist = thinkstats2.Hist(cust_df.NumWebPurchases, label='No. of Web purchases')\n",
    "thinkplot.Hist(hist)\n",
    "thinkplot.Show(xlabel='No. of Web purchases', ylabel='frequency')"
   ]
  },
  {
   "cell_type": "code",
   "execution_count": 7,
   "id": "106a1b5a",
   "metadata": {},
   "outputs": [
    {
     "data": {
      "image/png": "[encoded data removed]",
      "text/plain": [
       "<Figure size 432x288 with 1 Axes>"
      ]
     },
     "metadata": {
      "needs_background": "light"
     },
     "output_type": "display_data"
    },
    {
     "data": {
      "text/plain": [
       "<Figure size 576x432 with 0 Axes>"
      ]
     },
     "metadata": {},
     "output_type": "display_data"
    }
   ],
   "source": [
    "hist = thinkstats2.Hist(cust_df.NumStorePurchases, label='No. of Store purchases')\n",
    "thinkplot.Hist(hist)\n",
    "thinkplot.Show(xlabel='No. of Store purchases', ylabel='frequency')"
   ]
  },
  {
   "cell_type": "code",
   "execution_count": 41,
   "id": "ee4c703f",
   "metadata": {},
   "outputs": [
    {
     "data": {
      "text/plain": [
       "Text(0, 0.5, 'frequency')"
      ]
     },
     "execution_count": 41,
     "metadata": {},
     "output_type": "execute_result"
    },
    {
     "data": {
      "image/png": "[encoded data removed]",
      "text/plain": [
       "<Figure size 432x288 with 1 Axes>"
      ]
     },
     "metadata": {
      "needs_background": "light"
     },
     "output_type": "display_data"
    }
   ],
   "source": [
    "matplotlib.pyplot.hist(cust_df.Income, bins = 200, range = [10000,80000])\n",
    "matplotlib.pyplot.xlabel(\"Income\")\n",
    "matplotlib.pyplot.ylabel(\"frequency\")"
   ]
  },
  {
   "cell_type": "code",
   "execution_count": 45,
   "id": "47db9cb3",
   "metadata": {},
   "outputs": [
    {
     "data": {
      "text/plain": [
       "Text(0, 0.5, 'frequency')"
      ]
     },
     "execution_count": 45,
     "metadata": {},
     "output_type": "execute_result"
    },
    {
     "data": {
      "image/png": "[encoded data removed]",
      "text/plain": [
       "<Figure size 432x288 with 1 Axes>"
      ]
     },
     "metadata": {
      "needs_background": "light"
     },
     "output_type": "display_data"
    }
   ],
   "source": [
    "matplotlib.pyplot.hist(cust_df.Complain)\n",
    "matplotlib.pyplot.xlabel(\"Complains\")\n",
    "matplotlib.pyplot.ylabel(\"frequency\")"
   ]
  },
  {
   "cell_type": "code",
   "execution_count": 90,
   "id": "e37b8e74",
   "metadata": {},
   "outputs": [
    {
     "data": {
      "image/png": "[encoded data removed]",
      "text/plain": [
       "<Figure size 432x288 with 1 Axes>"
      ]
     },
     "metadata": {
      "needs_background": "light"
     },
     "output_type": "display_data"
    },
    {
     "data": {
      "text/plain": [
       "<Figure size 576x432 with 0 Axes>"
      ]
     },
     "metadata": {},
     "output_type": "display_data"
    }
   ],
   "source": [
    "hist = thinkstats2.Hist(cust_df.NumWebVisitsMonth, label='No. of Web Visits in last month')\n",
    "thinkplot.Hist(hist)\n",
    "thinkplot.Show(xlabel='No. of Web Visits in last month', ylabel='frequency')"
   ]
  },
  {
   "cell_type": "markdown",
   "id": "40dd00c8",
   "metadata": {},
   "source": [
    "There are no outliers identified in above variables"
   ]
  },
  {
   "cell_type": "markdown",
   "id": "39d21dbc",
   "metadata": {},
   "source": [
    "### Include the other descriptive characteristics about the variables: Mean, Mode, Spread, and Tails (Chapter 2)."
   ]
  },
  {
   "cell_type": "code",
   "execution_count": 105,
   "id": "fc47a4c1",
   "metadata": {},
   "outputs": [
    {
     "name": "stdout",
     "output_type": "stream",
     "text": [
      "No. of Web purchases mean is: 4.084821428571429\n",
      "No. of Web purchases variance is: 7.7212523128948245\n",
      "No. of Web purchases standard deviation is: 2.7787141473881087\n",
      "\n",
      "No. of Store purchases mean is: 5.790178571428571\n",
      "No. of Store purchases variance is: 10.568728864926845\n",
      "No. of Store purchases standard deviation is: 3.250958145674417\n",
      "\n",
      "Income mean is: 52247.25135379061\n",
      "Income variance is: 633683788.5756192\n",
      "Income standard deviation is: 25173.07666090141\n",
      "\n",
      "Complain mean is: 0.009375\n",
      "Complain variance is: 0.009291257257704457\n",
      "Complain standard deviation is: 0.0963911679444982\n",
      "\n",
      "No. of Web Visits in last Month mean is: 5.316517857142857\n",
      "No. of Web Visits in last Month variance is: 5.888606002360743\n",
      "No. of Web Visits in last Month standard deviation is: 2.426645009547285\n"
     ]
    }
   ],
   "source": [
    "#Mean, variance & standard deviation\n",
    "\n",
    "mean = cust_df.NumWebPurchases.mean()\n",
    "var = cust_df.NumWebPurchases.var()\n",
    "std = cust_df.NumWebPurchases.std()\n",
    "print(\"No. of Web purchases mean is:\", mean)\n",
    "print(\"No. of Web purchases variance is:\", var)\n",
    "print(\"No. of Web purchases standard deviation is:\", std)\n",
    "\n",
    "mean = cust_df.NumStorePurchases.mean()\n",
    "var = cust_df.NumStorePurchases.var()\n",
    "std = cust_df.NumStorePurchases.std()\n",
    "print(\"\\nNo. of Store purchases mean is:\", mean)\n",
    "print(\"No. of Store purchases variance is:\", var)\n",
    "print(\"No. of Store purchases standard deviation is:\", std)\n",
    "\n",
    "mean = cust_df.Income.mean()\n",
    "var = cust_df.Income.var()\n",
    "std = cust_df.Income.std()\n",
    "print(\"\\nIncome mean is:\", mean)\n",
    "print(\"Income variance is:\", var)\n",
    "print(\"Income standard deviation is:\", std)\n",
    "\n",
    "mean = cust_df.Complain.mean()\n",
    "var = cust_df.Complain.var()\n",
    "std = cust_df.Complain.std()\n",
    "print(\"\\nComplain mean is:\", mean)\n",
    "print(\"Complain variance is:\", var)\n",
    "print(\"Complain standard deviation is:\", std)\n",
    "\n",
    "mean = cust_df.NumWebVisitsMonth.mean()\n",
    "var = cust_df.NumWebVisitsMonth.var()\n",
    "std = cust_df.NumWebVisitsMonth.std()\n",
    "print(\"\\nNo. of Web Visits in last Month mean is:\", mean)\n",
    "print(\"No. of Web Visits in last Month variance is:\", var)\n",
    "print(\"No. of Web Visits in last Month standard deviation is:\", std)\n"
   ]
  },
  {
   "cell_type": "markdown",
   "id": "588990dc",
   "metadata": {},
   "source": [
    "### Using pg. 29 of your text as an example, compare two scenarios in your data using a PMF. Reminder, this isn’t comparing two variables against each other – it is the same variable, but a different scenario. Almost like a filter. The example in the book is first babies compared to all other babies, it is still the same variable, but breaking the data out based on criteria we are exploring (Chapter 3)."
   ]
  },
  {
   "cell_type": "code",
   "execution_count": 13,
   "id": "cf13dd57",
   "metadata": {},
   "outputs": [],
   "source": [
    "# Splitting my data by customer who complained and not.\n",
    "Cust_Complain = cust_df[cust_df.Complain == 1]\n",
    "Cust_NoComplain = cust_df[cust_df.Complain != 1]"
   ]
  },
  {
   "cell_type": "code",
   "execution_count": 14,
   "id": "5297349c",
   "metadata": {},
   "outputs": [
    {
     "data": {
      "image/png": "[encoded data removed]",
      "text/plain": [
       "<Figure size 864x432 with 2 Axes>"
      ]
     },
     "metadata": {
      "needs_background": "light"
     },
     "output_type": "display_data"
    }
   ],
   "source": [
    "# getting pmf of no. of web purchases of customers who complained.\n",
    "Cust_Complain_pmf = thinkstats2.Pmf(Cust_Complain.NumWebPurchases, label='Complains') \n",
    "# getting pmf of no. of web purchases of customers who have not complained.\n",
    "Cust_NoComplain_pmf = thinkstats2.Pmf(Cust_NoComplain.NumWebPurchases, label='No Complains') \n",
    "\n",
    "width=0.45 # width of the bar\n",
    "axis = [0, 12, 0, 0.6] # x-axis and y-axis scale\n",
    "thinkplot.PrePlot(2, cols=2) # pre select colour for 2 PMFs\n",
    "thinkplot.Hist(Cust_Complain_pmf, align='right', width=width) #plot\n",
    "thinkplot.Hist(Cust_NoComplain_pmf, align='left', width=width) #plot\n",
    "thinkplot.Config(xlabel='No of web purchases', ylabel='PMF', axis=axis)\n",
    "\n",
    "thinkplot.PrePlot(2)\n",
    "thinkplot.SubPlot(2)\n",
    "thinkplot.Pmfs([Cust_Complain_pmf, Cust_NoComplain_pmf]) # plot\n",
    "thinkplot.Config(xlabel='No of web purchases', ylabel='PMF', axis=axis)\n"
   ]
  },
  {
   "cell_type": "markdown",
   "id": "89ba2da7",
   "metadata": {},
   "source": [
    "Here by looking at the above PMF plot we can say that within the customers with less No. of Web purchases, the Complains are more compared to the customers with more No. of Web Purchases."
   ]
  },
  {
   "cell_type": "markdown",
   "id": "a07df85c",
   "metadata": {},
   "source": [
    "### Create 1 CDF with one of your variables, using page 41-44 as your guide, what does this tell you about your variable and how does it address the question you are trying to answer (Chapter 4)."
   ]
  },
  {
   "cell_type": "code",
   "execution_count": 15,
   "id": "a16b3fea",
   "metadata": {},
   "outputs": [
    {
     "data": {
      "image/png": "[encoded data removed]",
      "text/plain": [
       "<Figure size 432x288 with 1 Axes>"
      ]
     },
     "metadata": {
      "needs_background": "light"
     },
     "output_type": "display_data"
    }
   ],
   "source": [
    "cdf = thinkstats2.Cdf(cust_df.NumWebPurchases, label='No. of web purchases') # get CDF\n",
    "thinkplot.Cdf(cdf)\n",
    "thinkplot.Config(xlabel='No. of web purchases', ylabel='CDF', loc='upper left') #plot"
   ]
  },
  {
   "cell_type": "markdown",
   "id": "a50052a4",
   "metadata": {},
   "source": [
    "From the above CDF plot of No. of web purchases, we can see only 10% of the population makes no purchases below 1 and above 12. Most of the population make the no. of web purchases between 1 to 10."
   ]
  },
  {
   "cell_type": "markdown",
   "id": "a9de28d0",
   "metadata": {},
   "source": [
    "### Plot 1 analytical distribution and provide your analysis on how it applies to the dataset you have chosen (Chapter 5)."
   ]
  },
  {
   "cell_type": "code",
   "execution_count": 16,
   "id": "7ff2e3f9",
   "metadata": {},
   "outputs": [
    {
     "data": {
      "image/png": "[encoded data removed]",
      "text/plain": [
       "<Figure size 432x288 with 1 Axes>"
      ]
     },
     "metadata": {
      "needs_background": "light"
     },
     "output_type": "display_data"
    }
   ],
   "source": [
    "cdf = thinkstats2.Cdf(cust_df.NumWebPurchases, label='No. of web purchases') # get CDF\n",
    "thinkplot.Cdf(cdf, complement=True)\n",
    "thinkplot.Config(xlabel='No. of web purchases', ylabel='CDF', loc='upper left') #plot"
   ]
  },
  {
   "cell_type": "markdown",
   "id": "5b18b22c",
   "metadata": {},
   "source": [
    "From the above plot of complementary CDF on a log-y scale we can see it is not a perfect stratight line. So we can say the exponential distribution model is not a perfect fit for No. of web purchases."
   ]
  },
  {
   "cell_type": "markdown",
   "id": "1cc19a0d",
   "metadata": {},
   "source": [
    "### Create two scatter plots comparing two variables and provide your analysis on correlation and causation. Remember, covariance, Pearson’s correlation, and Non-Linear Relationships should also be considered during your analysis (Chapter 7)."
   ]
  },
  {
   "cell_type": "code",
   "execution_count": 19,
   "id": "a741092b",
   "metadata": {},
   "outputs": [
    {
     "data": {
      "image/png": "[encoded data removed]",
      "text/plain": [
       "<Figure size 432x288 with 1 Axes>"
      ]
     },
     "metadata": {
      "needs_background": "light"
     },
     "output_type": "display_data"
    },
    {
     "data": {
      "text/plain": [
       "<Figure size 576x432 with 0 Axes>"
      ]
     },
     "metadata": {},
     "output_type": "display_data"
    }
   ],
   "source": [
    "sample = thinkstats2.SampleRows(cust_df, 500)\n",
    "WebPurchases, Income = sample.NumWebPurchases, sample.Income\n",
    "thinkplot.Scatter(Income, WebPurchases)\n",
    "thinkplot.Show(xlabel='Income', ylabel='Web Purchases', axis=[5000, 100000, 0, 15])"
   ]
  },
  {
   "cell_type": "code",
   "execution_count": 55,
   "id": "408e851b",
   "metadata": {},
   "outputs": [],
   "source": [
    "def Cov(xs, ys, meanx=None, meany=None):\n",
    "    xs = np.asarray(xs)\n",
    "    ys = np.asarray(ys)\n",
    "    if meanx is None:\n",
    "        meanx = xs.mean()\n",
    "    if meany is None:\n",
    "        meany = ys.mean()\n",
    "\n",
    "    cov = np.dot(xs-meanx, ys-meany) / len(xs)\n",
    "    return cov\n",
    "\n",
    "def Corr(xs, ys):\n",
    "    xs = np.asarray(xs)\n",
    "    ys = np.asarray(ys)\n",
    "\n",
    "    meanx, varx = thinkstats2.MeanVar(xs)\n",
    "    meany, vary = thinkstats2.MeanVar(ys)\n",
    "\n",
    "    corr = Cov(xs, ys, meanx, meany) / np.sqrt(varx * vary)\n",
    "    return corr"
   ]
  },
  {
   "cell_type": "code",
   "execution_count": 58,
   "id": "a4b98177",
   "metadata": {},
   "outputs": [
    {
     "data": {
      "text/plain": [
       "0.012560000000000002"
      ]
     },
     "execution_count": 58,
     "metadata": {},
     "output_type": "execute_result"
    }
   ],
   "source": [
    "Cov(sample.Income.notna(), sample.NumWebPurchases) # get covariance"
   ]
  },
  {
   "cell_type": "code",
   "execution_count": 59,
   "id": "46b52d3c",
   "metadata": {},
   "outputs": [
    {
     "data": {
      "text/plain": [
       "0.0399892725226043"
      ]
     },
     "execution_count": 59,
     "metadata": {},
     "output_type": "execute_result"
    }
   ],
   "source": [
    "Corr(sample.Income.notna(), sample.NumWebPurchases) #get correlation"
   ]
  },
  {
   "cell_type": "markdown",
   "id": "d217cbbc",
   "metadata": {},
   "source": [
    "From the corelation and covariance value we can see there is a positive correlation between Income of the customer and the Number of Web purchases. The more the income of the customer, the more they tend to purchase on web and vice versa."
   ]
  },
  {
   "cell_type": "markdown",
   "id": "4ac1118e",
   "metadata": {},
   "source": [
    "### Conduct a test on your hypothesis using one of the methods covered in Chapter 9."
   ]
  },
  {
   "cell_type": "code",
   "execution_count": 60,
   "id": "8efd757f",
   "metadata": {},
   "outputs": [],
   "source": [
    "class CorrelationPermute(thinkstats2.HypothesisTest):\n",
    "\n",
    "    def TestStatistic(self, data):\n",
    "        xs, ys = data\n",
    "        test_stat = abs(thinkstats2.Corr(xs, ys))\n",
    "        return test_stat\n",
    "\n",
    "    def RunModel(self):\n",
    "        xs, ys = self.data\n",
    "        xs = np.random.permutation(xs)\n",
    "        return xs, ys"
   ]
  },
  {
   "cell_type": "code",
   "execution_count": 70,
   "id": "d975c46b",
   "metadata": {},
   "outputs": [
    {
     "name": "stdout",
     "output_type": "stream",
     "text": [
      "pvalue= 0.002\n",
      "pvalue= 0.169\n",
      "pvalue= 0.065\n",
      "pvalue= 0.331\n",
      "pvalue= 0.032\n",
      "pvalue= 0.048\n",
      "pvalue= 0.849\n",
      "pvalue= 0.373\n",
      "pvalue= 0.011\n",
      "pvalue= 0.005\n"
     ]
    }
   ],
   "source": [
    "for i in range (10):  # run a loop 20 times\n",
    "    sample = thinkstats2.SampleRows(cust_df, 500) # select random 500 rows  \n",
    "    data = sample.Income.notna(), sample.NumWebPurchases\n",
    "    ht = CorrelationPermute(data)\n",
    "    pvalue = ht.PValue()\n",
    "    print(\"pvalue=\", pvalue) # print the p-value"
   ]
  },
  {
   "cell_type": "markdown",
   "id": "074589c2",
   "metadata": {},
   "source": [
    "From the above correlation test, we got p-value < 0.05 most of the times. So we can say that Income's impact on Number of web purchases is statistically significant."
   ]
  },
  {
   "cell_type": "markdown",
   "id": "beb3a674",
   "metadata": {},
   "source": [
    "### For this project, conduct a regression analysis on either one dependent and one explanatory variable, or multiple explanatory variables (Chapter 10 & 11)."
   ]
  },
  {
   "cell_type": "code",
   "execution_count": 74,
   "id": "6a20e9bf",
   "metadata": {},
   "outputs": [
    {
     "data": {
      "text/html": [
       "<table class=\"simpletable\">\n",
       "<caption>OLS Regression Results</caption>\n",
       "<tr>\n",
       "  <th>Dep. Variable:</th>        <td>Complain</td>     <th>  R-squared:         </th> <td>   0.001</td>\n",
       "</tr>\n",
       "<tr>\n",
       "  <th>Model:</th>                   <td>OLS</td>       <th>  Adj. R-squared:    </th> <td>  -0.001</td>\n",
       "</tr>\n",
       "<tr>\n",
       "  <th>Method:</th>             <td>Least Squares</td>  <th>  F-statistic:       </th> <td>  0.4653</td>\n",
       "</tr>\n",
       "<tr>\n",
       "  <th>Date:</th>             <td>Sun, 21 Nov 2021</td> <th>  Prob (F-statistic):</th>  <td> 0.761</td> \n",
       "</tr>\n",
       "<tr>\n",
       "  <th>Time:</th>                 <td>00:26:08</td>     <th>  Log-Likelihood:    </th> <td>  2029.2</td>\n",
       "</tr>\n",
       "<tr>\n",
       "  <th>No. Observations:</th>      <td>  2216</td>      <th>  AIC:               </th> <td>  -4048.</td>\n",
       "</tr>\n",
       "<tr>\n",
       "  <th>Df Residuals:</th>          <td>  2211</td>      <th>  BIC:               </th> <td>  -4020.</td>\n",
       "</tr>\n",
       "<tr>\n",
       "  <th>Df Model:</th>              <td>     4</td>      <th>                     </th>     <td> </td>   \n",
       "</tr>\n",
       "<tr>\n",
       "  <th>Covariance Type:</th>      <td>nonrobust</td>    <th>                     </th>     <td> </td>   \n",
       "</tr>\n",
       "</table>\n",
       "<table class=\"simpletable\">\n",
       "<tr>\n",
       "          <td></td>             <th>coef</th>     <th>std err</th>      <th>t</th>      <th>P>|t|</th>  <th>[0.025</th>    <th>0.975]</th>  \n",
       "</tr>\n",
       "<tr>\n",
       "  <th>Intercept</th>         <td>    0.0123</td> <td>    0.010</td> <td>    1.194</td> <td> 0.233</td> <td>   -0.008</td> <td>    0.032</td>\n",
       "</tr>\n",
       "<tr>\n",
       "  <th>Income</th>            <td>-7.467e-08</td> <td> 1.11e-07</td> <td>   -0.672</td> <td> 0.502</td> <td>-2.93e-07</td> <td> 1.43e-07</td>\n",
       "</tr>\n",
       "<tr>\n",
       "  <th>NumWebPurchases</th>   <td>   -0.0004</td> <td>    0.001</td> <td>   -0.377</td> <td> 0.706</td> <td>   -0.002</td> <td>    0.001</td>\n",
       "</tr>\n",
       "<tr>\n",
       "  <th>NumStorePurchases</th> <td>  8.03e-05</td> <td>    0.001</td> <td>    0.094</td> <td> 0.925</td> <td>   -0.002</td> <td>    0.002</td>\n",
       "</tr>\n",
       "<tr>\n",
       "  <th>NumWebVisitsMonth</th> <td>    0.0004</td> <td>    0.001</td> <td>    0.353</td> <td> 0.724</td> <td>   -0.002</td> <td>    0.003</td>\n",
       "</tr>\n",
       "</table>\n",
       "<table class=\"simpletable\">\n",
       "<tr>\n",
       "  <th>Omnibus:</th>       <td>3467.187</td> <th>  Durbin-Watson:     </th>  <td>   2.020</td> \n",
       "</tr>\n",
       "<tr>\n",
       "  <th>Prob(Omnibus):</th>  <td> 0.000</td>  <th>  Jarque-Bera (JB):  </th> <td>967817.518</td>\n",
       "</tr>\n",
       "<tr>\n",
       "  <th>Skew:</th>           <td>10.113</td>  <th>  Prob(JB):          </th>  <td>    0.00</td> \n",
       "</tr>\n",
       "<tr>\n",
       "  <th>Kurtosis:</th>       <td>103.363</td> <th>  Cond. No.          </th>  <td>2.91e+05</td> \n",
       "</tr>\n",
       "</table><br/><br/>Notes:<br/>[1] Standard Errors assume that the covariance matrix of the errors is correctly specified.<br/>[2] The condition number is large, 2.91e+05. This might indicate that there are<br/>strong multicollinearity or other numerical problems."
      ],
      "text/plain": [
       "<class 'statsmodels.iolib.summary.Summary'>\n",
       "\"\"\"\n",
       "                            OLS Regression Results                            \n",
       "==============================================================================\n",
       "Dep. Variable:               Complain   R-squared:                       0.001\n",
       "Model:                            OLS   Adj. R-squared:                 -0.001\n",
       "Method:                 Least Squares   F-statistic:                    0.4653\n",
       "Date:                Sun, 21 Nov 2021   Prob (F-statistic):              0.761\n",
       "Time:                        00:26:08   Log-Likelihood:                 2029.2\n",
       "No. Observations:                2216   AIC:                            -4048.\n",
       "Df Residuals:                    2211   BIC:                            -4020.\n",
       "Df Model:                           4                                         \n",
       "Covariance Type:            nonrobust                                         \n",
       "=====================================================================================\n",
       "                        coef    std err          t      P>|t|      [0.025      0.975]\n",
       "-------------------------------------------------------------------------------------\n",
       "Intercept             0.0123      0.010      1.194      0.233      -0.008       0.032\n",
       "Income            -7.467e-08   1.11e-07     -0.672      0.502   -2.93e-07    1.43e-07\n",
       "NumWebPurchases      -0.0004      0.001     -0.377      0.706      -0.002       0.001\n",
       "NumStorePurchases   8.03e-05      0.001      0.094      0.925      -0.002       0.002\n",
       "NumWebVisitsMonth     0.0004      0.001      0.353      0.724      -0.002       0.003\n",
       "==============================================================================\n",
       "Omnibus:                     3467.187   Durbin-Watson:                   2.020\n",
       "Prob(Omnibus):                  0.000   Jarque-Bera (JB):           967817.518\n",
       "Skew:                          10.113   Prob(JB):                         0.00\n",
       "Kurtosis:                     103.363   Cond. No.                     2.91e+05\n",
       "==============================================================================\n",
       "\n",
       "Notes:\n",
       "[1] Standard Errors assume that the covariance matrix of the errors is correctly specified.\n",
       "[2] The condition number is large, 2.91e+05. This might indicate that there are\n",
       "strong multicollinearity or other numerical problems.\n",
       "\"\"\""
      ]
     },
     "execution_count": 74,
     "metadata": {},
     "output_type": "execute_result"
    }
   ],
   "source": [
    "formula = 'Complain ~ Income+NumWebPurchases+NumStorePurchases+NumWebVisitsMonth'\n",
    "model = smf.ols(formula, data=cust_df)\n",
    "results = model.fit()\n",
    "results.summary()"
   ]
  },
  {
   "cell_type": "code",
   "execution_count": null,
   "id": "92eb8904",
   "metadata": {},
   "outputs": [],
   "source": []
  }
 ],
 "metadata": {
  "kernelspec": {
   "display_name": "Python 3",
   "language": "python",
   "name": "python3"
  },
  "language_info": {
   "codemirror_mode": {
    "name": "ipython",
    "version": 3
   },
   "file_extension": ".py",
   "mimetype": "text/x-python",
   "name": "python",
   "nbconvert_exporter": "python",
   "pygments_lexer": "ipython3",
   "version": "3.8.8"
  }
 },
 "nbformat": 4,
 "nbformat_minor": 5
}
