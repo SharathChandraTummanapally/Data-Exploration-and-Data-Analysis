{
 "cells": [
  {
   "cell_type": "markdown",
   "id": "c259c97b",
   "metadata": {},
   "source": [
    "# Exercise 3.1 \n",
    "Something like the class size paradox appears if you survey children and ask how many children are in their family. Families with many children are more likely to appear in your sample, and families with no chil- dren have no chance to be in the sample.\n",
    "\n",
    "Use the NSFG respondent variable NUMKDHH to construct the actual distribu- tion for the number of children under 18 in the household.\n",
    "\n",
    "Now compute the biased distribution we would see if we surveyed the children and asked them how many children under 18 (including themselves) are in their household.\n",
    "Plot the actual and biased distributions, and compute their means."
   ]
  },
  {
   "cell_type": "code",
   "execution_count": 2,
   "id": "fdcdfada",
   "metadata": {},
   "outputs": [],
   "source": [
    "from __future__ import print_function, division\n",
    "\n",
    "%matplotlib inline\n",
    "\n",
    "import numpy as np\n",
    "\n",
    "import nsfg\n",
    "import first\n",
    "import thinkstats2\n",
    "import thinkplot"
   ]
  },
  {
   "cell_type": "code",
   "execution_count": 5,
   "id": "3a6e94d9",
   "metadata": {},
   "outputs": [],
   "source": [
    "resp = nsfg.ReadFemResp()"
   ]
  },
  {
   "cell_type": "code",
   "execution_count": 25,
   "id": "c575dd2a",
   "metadata": {},
   "outputs": [],
   "source": [
    "# creating pmf object for the number of children under 18 in the household.\n",
    "pmf = thinkstats2.Pmf(resp.numkdhh, label='numkdhh')"
   ]
  },
  {
   "cell_type": "code",
   "execution_count": 26,
   "id": "b5a2b46d",
   "metadata": {},
   "outputs": [
    {
     "data": {
      "image/png": "[encoded data removed]",
      "text/plain": [
       "<Figure size 432x288 with 1 Axes>"
      ]
     },
     "metadata": {
      "needs_background": "light"
     },
     "output_type": "display_data"
    }
   ],
   "source": [
    "# plotting the pmf distribution for the number of children under 18 in the household.\n",
    "thinkplot.Pmf(pmf)\n",
    "thinkplot.Config(xlabel='No. of children', ylabel='PMF')"
   ]
  },
  {
   "cell_type": "code",
   "execution_count": 27,
   "id": "9a5fc144",
   "metadata": {},
   "outputs": [],
   "source": [
    "def BiasPmf(pmf, label):\n",
    "    \"\"\"function for calculating baised pmf.\"\"\"\n",
    "    new_pmf = pmf.Copy(label=label)\n",
    "\n",
    "    for x, p in pmf.Items():\n",
    "        new_pmf.Mult(x, x)\n",
    "        \n",
    "    new_pmf.Normalize()\n",
    "    return new_pmf"
   ]
  },
  {
   "cell_type": "code",
   "execution_count": 28,
   "id": "4161b57f",
   "metadata": {},
   "outputs": [],
   "source": [
    "# creating biased pmf object.\n",
    "biased = BiasPmf(pmf, label='biased')"
   ]
  },
  {
   "cell_type": "code",
   "execution_count": 29,
   "id": "cc222b52",
   "metadata": {},
   "outputs": [
    {
     "data": {
      "image/png": "[encoded data removed]",
      "text/plain": [
       "<Figure size 432x288 with 1 Axes>"
      ]
     },
     "metadata": {
      "needs_background": "light"
     },
     "output_type": "display_data"
    }
   ],
   "source": [
    "# plotting both actual pmf and biased pmf distributions.\n",
    "thinkplot.PrePlot(2)\n",
    "thinkplot.Pmfs([pmf, biased])\n",
    "thinkplot.Config(xlabel='No. of children', ylabel='PMF')"
   ]
  },
  {
   "cell_type": "code",
   "execution_count": 31,
   "id": "47631097",
   "metadata": {},
   "outputs": [
    {
     "data": {
      "text/plain": [
       "1.024205155043831"
      ]
     },
     "execution_count": 31,
     "metadata": {},
     "output_type": "execute_result"
    }
   ],
   "source": [
    "# Calculating the actual mean.\n",
    "pmf.Mean()"
   ]
  },
  {
   "cell_type": "code",
   "execution_count": 32,
   "id": "8f277a7d",
   "metadata": {},
   "outputs": [
    {
     "data": {
      "text/plain": [
       "2.403679100664282"
      ]
     },
     "execution_count": 32,
     "metadata": {},
     "output_type": "execute_result"
    }
   ],
   "source": [
    "# Calculating the biased mean.\n",
    "biased.Mean()"
   ]
  },
  {
   "cell_type": "markdown",
   "id": "4fb5637b",
   "metadata": {},
   "source": [
    "# Exercise 3.2 \n",
    "\n",
    "In Section 2.7 we computed the mean of a sample by adding up the elements and dividing by n. If you are given a PMF, you can still compute the mean, but the process is slightly different:\n",
    "x ̄ = 􏰄 p i x i i\n",
    "where the xi are the unique values in the PMF and pi = PMF(xi). Similarly, you can compute variance like this:\n",
    "S 2 = 􏰄 p i ( x i − x ̄ ) 2 i\n",
    "\n",
    "\n",
    "Write functions called PmfMean and PmfVar that take a Pmf object and com- pute the mean and variance. To test these methods, check that they are consistent with the methods Mean and Var provided by Pmf.\n"
   ]
  },
  {
   "cell_type": "code",
   "execution_count": 6,
   "id": "5be6c278",
   "metadata": {},
   "outputs": [
    {
     "name": "stdout",
     "output_type": "stream",
     "text": [
      "User defined mean and var of pregnancy length: 38.56055968517709 7.301863788195439\n",
      "Mean and Var pregnancy length provided by pmf: 38.56055968517709 7.301863788195439\n",
      "They are consistent.\n"
     ]
    }
   ],
   "source": [
    "def PmfMean(pmf):\n",
    "    \"\"\"Function for calculating the mean of a pmf.\"\"\"\n",
    "    mean = 0.0\n",
    "    for x, p in pmf.d.items():\n",
    "        mean += p * x\n",
    "    return mean\n",
    "\n",
    "def PmfVar(pmf, mu=None):\n",
    "    \"\"\"Function for calculating the variance of a pmf.\"\"\"\n",
    "    if mu is None:\n",
    "        mu = pmf.Mean()\n",
    "\n",
    "    var = 0.0\n",
    "    for x, p in pmf.d.items():\n",
    "        var += p * (x - mu) ** 2\n",
    "    return var\n",
    "\n",
    "# testing these methods to check if they are consistent with the methods Mean and Var provided by Pmf.\n",
    "preg = nsfg.ReadFemPreg()\n",
    "live = preg[preg.outcome == 1]\n",
    "prglngth = live.prglngth\n",
    "pmf = thinkstats2.Pmf(prglngth)\n",
    "mean = PmfMean(pmf)\n",
    "var = PmfVar(pmf)\n",
    "\n",
    "print('User defined mean and var of pregnancy length:', mean, var)\n",
    "print('Mean and Var pregnancy length provided by pmf:', pmf.Mean(), pmf.Var())\n",
    "\n",
    "if mean == pmf.Mean() and var == pmf.Var():\n",
    "    print('They are consistent.')"
   ]
  },
  {
   "cell_type": "markdown",
   "id": "38de10e6",
   "metadata": {},
   "source": [
    "# Exercise 4.1 \n",
    "\n",
    "How much did you weigh at birth? If you don’t know, call your mother or someone else who knows. \n",
    "Using the NSFG data (all live births), compute the distribution of birth weights and use it to find your percentile rank. If you were a first baby, find your percentile rank in the distribution for first babies. Otherwise use the distribution for others. If you are in the 90th percentile or higher, call your mother back and apologize.\n",
    "\n"
   ]
  },
  {
   "cell_type": "code",
   "execution_count": 13,
   "id": "2b729cd4",
   "metadata": {},
   "outputs": [
    {
     "name": "stdout",
     "output_type": "stream",
     "text": [
      "My Percentile rank is: 93.1469172587669\n"
     ]
    }
   ],
   "source": [
    "live, firsts, others = first.MakeFrames()\n",
    "\n",
    "# Getting the birth weights.\n",
    "first_wgt = firsts.totalwgt_lb\n",
    "first_wgt_dropna = first_wgt.dropna()\n",
    "other_wgt = others.totalwgt_lb\n",
    "other_wgt_dropna = other_wgt.dropna()\n",
    "\n",
    "# Calculating the pmf distributions of birth weights.\n",
    "first_pmf = thinkstats2.Pmf(first_wgt_dropna, label='first')\n",
    "other_pmf = thinkstats2.Pmf(other_wgt_dropna, label='other')\n",
    "\n",
    "# Calculating the cdf distributions of birth weights.\n",
    "first_cdf = thinkstats2.Cdf(firsts.totalwgt_lb, label='first')\n",
    "other_cdf = thinkstats2.Cdf(others.totalwgt_lb, label='other')\n",
    "\n",
    "# Since I'm the first baby, I'm using first_cdf to find my percentile rank. \n",
    "print('My Percentile rank is:',first_cdf.PercentileRank(9))\n",
    "# I apologized to my mom :)."
   ]
  },
  {
   "cell_type": "markdown",
   "id": "1946e323",
   "metadata": {},
   "source": [
    "# Exercise 4.2 \n",
    "\n",
    "The numbers generated by random.random are supposed to be uniform between 0 and 1; that is, every value in the range should have the same probability.\n",
    "Generate 1000 numbers from random.random and plot their PMF and CDF. Is the distribution uniform?"
   ]
  },
  {
   "cell_type": "code",
   "execution_count": 20,
   "id": "b16c730e",
   "metadata": {},
   "outputs": [
    {
     "data": {
      "image/png": "[encoded data removed]",
      "text/plain": [
       "<Figure size 432x288 with 1 Axes>"
      ]
     },
     "metadata": {
      "needs_background": "light"
     },
     "output_type": "display_data"
    }
   ],
   "source": [
    "# Generating 1000 random numbers. \n",
    "r = np.random.random(1000)\n",
    "\n",
    "# Plotting the random numbers pmf.\n",
    "pmf = thinkstats2.Pmf(r)\n",
    "thinkplot.Pmf(pmf, linewidth=0.05)\n",
    "thinkplot.Config(xlabel='Random', ylabel='PMF')"
   ]
  },
  {
   "cell_type": "code",
   "execution_count": 19,
   "id": "b56ef9e6",
   "metadata": {},
   "outputs": [
    {
     "data": {
      "image/png": "[encoded data removed]",
      "text/plain": [
       "<Figure size 432x288 with 1 Axes>"
      ]
     },
     "metadata": {
      "needs_background": "light"
     },
     "output_type": "display_data"
    }
   ],
   "source": [
    "# Plotting the random numbers cdf.\n",
    "cdf = thinkstats2.Cdf(r)\n",
    "thinkplot.Cdf(cdf)\n",
    "thinkplot.Config(xlabel='Random', ylabel='CDF')"
   ]
  },
  {
   "cell_type": "markdown",
   "id": "be500de2",
   "metadata": {},
   "source": [
    "The above CDF is approximately a straight line, this means that the distribution is uniform."
   ]
  }
 ],
 "metadata": {
  "kernelspec": {
   "display_name": "Python 3",
   "language": "python",
   "name": "python3"
  },
  "language_info": {
   "codemirror_mode": {
    "name": "ipython",
    "version": 3
   },
   "file_extension": ".py",
   "mimetype": "text/x-python",
   "name": "python",
   "nbconvert_exporter": "python",
   "pygments_lexer": "ipython3",
   "version": "3.8.8"
  }
 },
 "nbformat": 4,
 "nbformat_minor": 5
}
