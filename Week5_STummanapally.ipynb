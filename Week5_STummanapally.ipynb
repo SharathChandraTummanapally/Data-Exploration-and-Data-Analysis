{
 "cells": [
  {
   "cell_type": "markdown",
   "id": "8e760c36",
   "metadata": {},
   "source": [
    "# Exercise 5.1 \n",
    "\n",
    "In the BRFSS (see Section 5.4), the distribution of heights is roughly normal with parameters μ = 178 cm and σ = 7.7 cm for men, and μ = 163 cm and σ = 7.3 cm for women.\n",
    "In order to join Blue Man Group, you have to be male between 5’10” and 6’1” (see http://bluemancasting.com). \n",
    "What percentage of the U.S. male population is in this range? Hint: use scipy.stats.norm.cdf."
   ]
  },
  {
   "cell_type": "code",
   "execution_count": 1,
   "id": "86a2fac9",
   "metadata": {},
   "outputs": [],
   "source": [
    "from __future__ import print_function, division\n",
    "\n",
    "%matplotlib inline\n",
    "\n",
    "import numpy as np\n",
    "import thinkstats2\n",
    "import thinkplot\n",
    "import scipy.stats"
   ]
  },
  {
   "cell_type": "code",
   "execution_count": 2,
   "id": "83667f4a",
   "metadata": {},
   "outputs": [
    {
     "name": "stdout",
     "output_type": "stream",
     "text": [
      "Percentage of us male population in this range: 34.21%\n"
     ]
    }
   ],
   "source": [
    "mu = 178\n",
    "sigma = 7.7\n",
    "dist = scipy.stats.norm(loc=mu, scale=sigma)\n",
    "\n",
    "# 5'10'' in cm\n",
    "h1 = 177.8 \n",
    "# 6'1'' in cm\n",
    "h2 = 185.4\n",
    "\n",
    "# US male population in range.\n",
    "male_percentage = dist.cdf(h2)-dist.cdf(h1)\n",
    "print('Percentage of us male population in this range:', str(round(male_percentage*100,2)) + '%')"
   ]
  },
  {
   "cell_type": "markdown",
   "id": "55b28a57",
   "metadata": {},
   "source": [
    "# Exercise 5.2 \n",
    "\n",
    "To get a feel for the Pareto distribution, let’s see how different the world would be if the distribution of human height were Pareto. With the parameters xm = 1 m and α = 1.7, we get a distribution with a reasonable minimum, 1 m, and median, 1.5 m.\n",
    "Plot this distribution. What is the mean human height in Pareto world? What fraction of the population is shorter than the mean? If there are 7 billion people in Pareto world, how many do we expect to be taller than 1 km? How tall do we expect the tallest person to be?"
   ]
  },
  {
   "cell_type": "code",
   "execution_count": 3,
   "id": "7e3b6ac9",
   "metadata": {},
   "outputs": [
    {
     "data": {
      "text/plain": [
       "1.5034066538560549"
      ]
     },
     "execution_count": 3,
     "metadata": {},
     "output_type": "execute_result"
    }
   ],
   "source": [
    "alpha = 1.7\n",
    "xm = 1\n",
    "dist = scipy.stats.pareto(b=alpha, scale=xm)\n",
    "dist.median()"
   ]
  },
  {
   "cell_type": "code",
   "execution_count": 4,
   "id": "ebf6861e",
   "metadata": {},
   "outputs": [
    {
     "data": {
      "image/png": "[encoded data removed]",
      "text/plain": [
       "<Figure size 432x288 with 1 Axes>"
      ]
     },
     "metadata": {
      "needs_background": "light"
     },
     "output_type": "display_data"
    }
   ],
   "source": [
    "# plotting the distribution\n",
    "\n",
    "xs, ps = thinkstats2.RenderParetoCdf(xm, alpha, 0, 10.0, n=100) \n",
    "thinkplot.Plot(xs, ps, label=r'$\\alpha=%g$' % alpha)\n",
    "thinkplot.Config(title='Pareto CDF', xlabel='x',ylabel='CDF')"
   ]
  },
  {
   "cell_type": "code",
   "execution_count": 5,
   "id": "a9139272",
   "metadata": {},
   "outputs": [
    {
     "data": {
      "text/plain": [
       "2.428571428571429"
      ]
     },
     "execution_count": 5,
     "metadata": {},
     "output_type": "execute_result"
    }
   ],
   "source": [
    "# calculating the mean of human height in pareto world.\n",
    "\n",
    "dist.mean()"
   ]
  },
  {
   "cell_type": "code",
   "execution_count": 6,
   "id": "907d72db",
   "metadata": {},
   "outputs": [
    {
     "data": {
      "text/plain": [
       "0.778739697565288"
      ]
     },
     "execution_count": 6,
     "metadata": {},
     "output_type": "execute_result"
    }
   ],
   "source": [
    "# calculating the fraction of the population that is shorter than the mean.\n",
    "\n",
    "dist.cdf(dist.mean())"
   ]
  },
  {
   "cell_type": "code",
   "execution_count": 7,
   "id": "a231a4de",
   "metadata": {},
   "outputs": [
    {
     "data": {
      "text/plain": [
       "55602.976430479954"
      ]
     },
     "execution_count": 7,
     "metadata": {},
     "output_type": "execute_result"
    }
   ],
   "source": [
    "# people that we expect taller than 1km(1000m), out of 7 billion population.\n",
    "\n",
    "(1 - dist.cdf(1000)) * 7e9"
   ]
  },
  {
   "cell_type": "code",
   "execution_count": 8,
   "id": "a414ac4f",
   "metadata": {},
   "outputs": [
    {
     "data": {
      "text/plain": [
       "1.0525452731613427"
      ]
     },
     "execution_count": 8,
     "metadata": {},
     "output_type": "execute_result"
    }
   ],
   "source": [
    "# considering roughly 600 kilometers,the tall of tallest person to be. \n",
    "\n",
    "(1 - dist.cdf(600*1000)) * 7e9"
   ]
  },
  {
   "cell_type": "markdown",
   "id": "30a63c8b",
   "metadata": {},
   "source": [
    "# Exercise 6.1 \n",
    "\n",
    "The distribution of income is famously skewed to the right. In this exercise, we’ll measure how strong that skew is.\n",
    "The Current Population Survey (CPS) is a joint effort of the Bureau of Labor Statistics and the Census Bureau to study income and related variables. Data collected in 2013 is available from http://www.census.gov/hhes/www/ cpstables/032013/hhinc/toc.htm. I downloaded hinc06.xls, which is an Excel spreadsheet with information about household income, and converted it to hinc06.csv, a CSV file you will find in the repository for this book. You will also find hinc2.py, which reads this file and transforms the data.\n",
    "The dataset is in the form of a series of income ranges and the number of respondents who fell in each range. The lowest range includes respondents who reported annual household income “Under $5000.” The highest range includes respondents who made “$250,000 or more.”\n",
    "PDF\n",
    "\n",
    "To estimate mean and other statistics from these data, we have to make some assumptions about the lower and upper bounds, and how the values are dis- tributed in each range. hinc2.py provides InterpolateSample, which shows one way to model this data. It takes a DataFrame with a column, income, that contains the upper bound of each range, and freq, which contains the number of respondents in each frame.\n",
    "It also takes log_upper, which is an assumed upper bound on the highest range, expressed in log10 dollars. The default value, log_upper=6.0 represents the assumption that the largest income among the respondents is 106, or one million dollars.\n",
    "InterpolateSample generates a pseudo-sample; that is, a sample of house- hold incomes that yields the same number of respondents in each range as the actual data. It assumes that incomes in each range are equally spaced on a log10 scale.\n",
    "Compute the median, mean, skewness and Pearson’s skewness of the resulting sample. What fraction of households reports a taxable income below the mean? How do the results depend on the assumed upper bound?"
   ]
  },
  {
   "cell_type": "code",
   "execution_count": 9,
   "id": "2bfaabf1",
   "metadata": {},
   "outputs": [
    {
     "name": "stdout",
     "output_type": "stream",
     "text": [
      "\u001b[1mResults with log_upper as 6:\u001b[0m\n",
      "Mean of resulting sample: 74278.7075311872\n",
      "Standard deviation of resulting sample: 93946.92996347835\n",
      "Median of resulting sample: 51226.45447894046\n",
      "Skewness of resulting sample: 4.949920244429583\n",
      "Pearson skewness of resulting sample: 0.7361258019141782\n",
      "Fraction of households that report a taxable income below the mean: 0.660005879566872\n",
      "\n",
      "\u001b[1mResults with log_upper as 7:\u001b[0m\n",
      "Mean of resulting sample: 124267.39722164697\n",
      "Standard deviation of resulting sample: 559608.5013743473\n",
      "Median of resulting sample: 51226.45447894046\n",
      "Skewness of resulting sample: 11.603690267537793\n",
      "Pearson skewness of resulting sample: 0.39156450927742087\n",
      "Fraction of households that report a taxable income below the mean: 0.8565630665207663\n",
      "\n",
      "\u001b[1mResults with log_upper as 8:\u001b[0m\n",
      "Mean of resulting sample: 457453.4872473685\n",
      "Standard deviation of resulting sample: 4434938.612826857\n",
      "Median of resulting sample: 51226.45447894046\n",
      "Skewness of resulting sample: 14.892459804414136\n",
      "Pearson skewness of resulting sample: 0.2747909733813632\n",
      "Fraction of households that report a taxable income below the mean: 0.9786294076336377\n"
     ]
    }
   ],
   "source": [
    "import pandas as pd\n",
    "import hinc\n",
    "\n",
    "def InterpolateSample(df, log_upper=6.0):\n",
    "    \"\"\"Function for returning the log sample.\"\"\"\n",
    "    \n",
    "    # compute the log10 of the upper bound for each range\n",
    "    df['log_upper'] = np.log10(df.income)\n",
    "    \n",
    "    # get the lower bounds by shifting the upper bound and filling in the first element\n",
    "    df['log_lower'] = df.log_upper.shift(1)\n",
    "    \n",
    "    df.log_lower[0] = 3.0\n",
    "    \n",
    "    # plug in a value for the unknown upper bound of the highest range\n",
    "    df.log_upper[41] = log_upper\n",
    "\n",
    "    # use the freq column to generate the right number of values in each range\n",
    "    arrays = []\n",
    "    for _, row in df.iterrows():\n",
    "        vals = np.linspace(row.log_lower, row.log_upper, int(row.freq))\n",
    "        arrays.append(vals)\n",
    "\n",
    "    # collect the arrays into a single sample\n",
    "    log_sample = np.concatenate(arrays)\n",
    "    return log_sample\n",
    "\n",
    "def summary(log_sample):\n",
    "    \"\"\"function for calculating mean, standard deviation, median, skewness, pearson skewness and cdf mean.\"\"\"\n",
    "    sample = np.power(10, log_sample)\n",
    "    mean = sample.mean()\n",
    "    print('Mean of resulting sample:', mean)\n",
    "    print('Standard deviation of resulting sample:', sample.std())\n",
    "    print('Median of resulting sample:', thinkstats2.Median(sample))\n",
    "    print('Skewness of resulting sample:', thinkstats2.Skewness(sample))\n",
    "    print('Pearson skewness of resulting sample:', thinkstats2.PearsonMedianSkewness(sample))\n",
    "    cdf = thinkstats2.Cdf(sample)\n",
    "    print('Fraction of households that report a taxable income below the mean:', cdf[mean])\n",
    "\n",
    "    \n",
    "def main():\n",
    "    \n",
    "    df = hinc.ReadData()\n",
    "    pd.set_option('mode.chained_assignment', None)\n",
    "    \n",
    "    log_sample = InterpolateSample(df, log_upper=6.0)\n",
    "    print ('\\033[1mResults with log_upper as 6:\\033[0m')\n",
    "    summary(log_sample)\n",
    "    \n",
    "    # testing with higher bound values.\n",
    "    log_sample = InterpolateSample(df, log_upper=7.0)\n",
    "    print ('\\n''\\033[1mResults with log_upper as 7:\\033[0m')\n",
    "    summary(log_sample)\n",
    "    \n",
    "    log_sample = InterpolateSample(df, log_upper=8.0)\n",
    "    print ('\\n''\\033[1mResults with log_upper as 8:\\033[0m')\n",
    "    summary(log_sample)\n",
    "    \n",
    "    \n",
    "if __name__ == \"__main__\":\n",
    "    main()"
   ]
  },
  {
   "cell_type": "markdown",
   "id": "5f01aa46",
   "metadata": {},
   "source": [
    "As per my observation, when we calculate the statistics by increasing the upper bound, the Skewness of the resulting sample is increased however the Pearson skewness is decreased. The reason being the significant increase denominator value which is the standard deviation and not much serious change in te mean, when we are trying to calculate the Pearson skewness. As a result, Pearson skewness appears to be ineffective as a summary statistic in this case. A statistic with context such as the fraction of households that report a taxable income below the mean (CDF) is a preferable choice."
   ]
  }
 ],
 "metadata": {
  "kernelspec": {
   "display_name": "Python 3",
   "language": "python",
   "name": "python3"
  },
  "language_info": {
   "codemirror_mode": {
    "name": "ipython",
    "version": 3
   },
   "file_extension": ".py",
   "mimetype": "text/x-python",
   "name": "python",
   "nbconvert_exporter": "python",
   "pygments_lexer": "ipython3",
   "version": "3.8.8"
  }
 },
 "nbformat": 4,
 "nbformat_minor": 5
}
