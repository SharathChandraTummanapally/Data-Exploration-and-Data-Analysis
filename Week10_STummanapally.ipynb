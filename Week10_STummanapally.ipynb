{
 "cells": [
  {
   "cell_type": "markdown",
   "id": "dc85a9bc",
   "metadata": {},
   "source": [
    "# Exercise 12.1 \n",
    "The linear model I used in this chapter has the obvious draw- back that it is linear, and there is no reason to expect prices to change linearly over time. We can add flexibility to the model by adding a quadratic term, as we did in Section 11.3.\n",
    "Use a quadratic model to fit the time series of daily prices, and use the model to generate predictions. You will have to write a version of RunLinearModel that runs that quadratic model, but after that you should be able to reuse code in timeseries.py to generate predictions."
   ]
  },
  {
   "cell_type": "code",
   "execution_count": 2,
   "id": "8b6bd9d5",
   "metadata": {},
   "outputs": [],
   "source": [
    "import pandas\n",
    "import numpy as np\n",
    "import statsmodels.formula.api as smf\n",
    "\n",
    "import thinkplot\n",
    "import thinkstats2\n",
    "import regression\n",
    "import timeseries"
   ]
  },
  {
   "cell_type": "code",
   "execution_count": 3,
   "id": "ff83ef65",
   "metadata": {},
   "outputs": [
    {
     "name": "stdout",
     "output_type": "stream",
     "text": [
      "Intercept   13.7   (0)\n",
      "years   -1.12   (5.86e-38)\n",
      "years2   0.113   (4.82e-07)\n",
      "R^2 0.4553\n",
      "Std(ys) 1.096\n",
      "Std(res) 0.809\n",
      "Writing timeseries11.pdf\n",
      "Writing timeseries11.png\n",
      "Writing timeseries12.pdf\n",
      "Writing timeseries12.png\n",
      "Writing timeseries13.pdf\n",
      "Writing timeseries13.png\n"
     ]
    },
    {
     "data": {
      "text/plain": [
       "<Figure size 576x432 with 0 Axes>"
      ]
     },
     "metadata": {},
     "output_type": "display_data"
    }
   ],
   "source": [
    "def RunQuadraticModel(daily):\n",
    "    \"\"\"Function for creating a quadratic model\"\"\"\n",
    "    daily['years2'] = daily.years**2\n",
    "    model = smf.ols('ppg ~ years + years2', data=daily)\n",
    "    results = model.fit()\n",
    "    return model, results\n",
    "\n",
    "def PlotQuadraticModel(daily, name):\n",
    "    \"\"\" Function for plotting the Quadratic model\"\"\"\n",
    "    model, results = RunQuadraticModel(daily)\n",
    "    regression.SummarizeResults(results)\n",
    "    timeseries.PlotFittedValues(model, results, label=name)\n",
    "    thinkplot.Save(root='timeseries11',\n",
    "                   title='fitted values',\n",
    "                   xlabel='years',\n",
    "                   xlim=[-0.1, 3.8],\n",
    "                   ylabel='price per gram ($)')\n",
    "\n",
    "    timeseries.PlotResidualPercentiles(model, results)\n",
    "    thinkplot.Save(root='timeseries12',\n",
    "                   title='residuals',\n",
    "                   xlabel='years',\n",
    "                   ylabel='price per gram ($)')\n",
    "\n",
    "    years = np.linspace(0, 5, 101)\n",
    "    thinkplot.Scatter(daily.years, daily.ppg, alpha=0.1, label=name)\n",
    "    timeseries.PlotPredictions(daily, years, func=RunQuadraticModel)\n",
    "    thinkplot.Save(root='timeseries13',\n",
    "                   title='predictions',\n",
    "                   xlabel='years',\n",
    "                   xlim=[years[0]-0.1, years[-1]+0.1],\n",
    "                   ylabel='price per gram ($)')\n",
    "\n",
    "\n",
    "def PlotEwmaPredictions(daily, name):\n",
    "    \"\"\" Function for creating plot for EWMA preditions\"\"\"\n",
    "\n",
    "    # use EWMA to estimate slopes\n",
    "    filled = timeseries.FillMissing(daily)\n",
    "    filled['slope'] = pandas.ewma(filled.ppg.diff(), span=180)\n",
    "    filled[-1:]\n",
    "\n",
    "    # extract the last inter and slope\n",
    "    start = filled.index[-1]\n",
    "    inter = filled.ewma[-1]\n",
    "    slope = filled.slope[-1]\n",
    "\n",
    "    # reindex the DataFrame, adding a year to the end\n",
    "    dates = pandas.date_range(filled.index.min(), \n",
    "                              filled.index.max() + np.timedelta64(365, 'D'))\n",
    "    predicted = filled.reindex(dates)\n",
    "\n",
    "    # generate predicted values and add them to the end\n",
    "    predicted['date'] = predicted.index\n",
    "    one_day = np.timedelta64(1, 'D')\n",
    "    predicted['days'] = (predicted.date - start) / one_day\n",
    "    predict = inter + slope * predicted.days\n",
    "    predicted.ewma.fillna(predict, inplace=True)\n",
    "\n",
    "    # plot the actual values and predictions\n",
    "    thinkplot.Scatter(daily.ppg, alpha=0.1, label=name)\n",
    "    thinkplot.Plot(predicted.ewma)\n",
    "    thinkplot.Save()\n",
    "    \n",
    "def main():\n",
    "    transactions = timeseries.ReadData()\n",
    "\n",
    "    dailies = timeseries.GroupByQualityAndDay(transactions)\n",
    "    name = 'high'\n",
    "    daily = dailies[name]\n",
    "\n",
    "    PlotQuadraticModel(daily, name)\n",
    "    PlotEwmaPredictions(daily, name)\n",
    "    \n",
    "if __name__ == '__main__':\n",
    "    main()\n",
    "     "
   ]
  },
  {
   "cell_type": "markdown",
   "id": "20e3614e",
   "metadata": {},
   "source": [
    "# Exercise 12.2 \n",
    "Write a definition for a class named SerialCorrelationTest that extends HypothesisTest from Section 9.2. It should take a series and a lag as data, compute the serial correlation of the series with the given lag, and then compute the p-value of the observed correlation.\n",
    "Use this class to test whether the serial correlation in raw price data is statistically significant. Also test the residuals of the linear model and (if you did the previous exercise), the quadratic model.\n"
   ]
  },
  {
   "cell_type": "code",
   "execution_count": 4,
   "id": "d83435cf",
   "metadata": {},
   "outputs": [
    {
     "name": "stdout",
     "output_type": "stream",
     "text": [
      "0.485229376194738 0.0\n",
      "0.07570473767506256 0.004\n",
      "0.05607308161289915 0.053\n"
     ]
    }
   ],
   "source": [
    "class SerialCorrelationTest(thinkstats2.HypothesisTest):\n",
    "    \"\"\"Tests serial correlations by permutation.\"\"\"\n",
    "\n",
    "    def TestStatistic(self, data):\n",
    "        \"\"\"Function for computing the test statistic\"\"\"\n",
    "        series, lag = data\n",
    "        test_stat = abs(thinkstats2.SerialCorr(series, lag))\n",
    "        return test_stat\n",
    "\n",
    "    def RunModel(self):\n",
    "        \"\"\"Function to run the model of the null hypothesis\"\"\"\n",
    "        series, lag = self.data\n",
    "        permutation = series.reindex(np.random.permutation(series.index))\n",
    "        return permutation, lag\n",
    "    \n",
    "def TestSerialCorr(daily):\n",
    "    \"\"\"Function for testing serial correlations in daily prices and their residuals.\"\"\"\n",
    "    # test the correlation between consecutive prices\n",
    "    series = daily.ppg\n",
    "    test = SerialCorrelationTest((series, 1))\n",
    "    pvalue = test.PValue()\n",
    "    print(test.actual, pvalue)\n",
    "\n",
    "    # test for serial correlation in residuals of the linear model\n",
    "    _, results = timeseries.RunLinearModel(daily)\n",
    "    series = results.resid\n",
    "    test = SerialCorrelationTest((series, 1))\n",
    "    pvalue = test.PValue()\n",
    "    print(test.actual, pvalue)\n",
    "\n",
    "    # test for serial correlation in residuals of the quadratic model\n",
    "    _, results = RunQuadraticModel(daily)\n",
    "    series = results.resid\n",
    "    test = SerialCorrelationTest((series, 1))\n",
    "    pvalue = test.PValue()\n",
    "    print(test.actual, pvalue)\n",
    "    \n",
    "def main():\n",
    "    transactions = timeseries.ReadData()\n",
    "\n",
    "    dailies = timeseries.GroupByQualityAndDay(transactions)\n",
    "    name = 'high'\n",
    "    daily = dailies[name]\n",
    "\n",
    "    TestSerialCorr(daily)\n",
    "    \n",
    "if __name__ == '__main__':\n",
    "    main()"
   ]
  },
  {
   "cell_type": "code",
   "execution_count": null,
   "id": "39931898",
   "metadata": {},
   "outputs": [],
   "source": []
  }
 ],
 "metadata": {
  "kernelspec": {
   "display_name": "Python 3",
   "language": "python",
   "name": "python3"
  },
  "language_info": {
   "codemirror_mode": {
    "name": "ipython",
    "version": 3
   },
   "file_extension": ".py",
   "mimetype": "text/x-python",
   "name": "python",
   "nbconvert_exporter": "python",
   "pygments_lexer": "ipython3",
   "version": "3.8.8"
  }
 },
 "nbformat": 4,
 "nbformat_minor": 5
}
