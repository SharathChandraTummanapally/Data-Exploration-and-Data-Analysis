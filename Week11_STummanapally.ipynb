{
 "cells": [
  {
   "cell_type": "markdown",
   "id": "96da8b2f",
   "metadata": {},
   "source": [
    "# Exercise 13.1 \n",
    "In NSFG Cycles 6 and 7, the variable cmdivorcx contains the date of divorce for the respondent’s first marriage, if applicable, encoded in century-months.\n",
    "Compute the duration of marriages that have ended in divorce, and the duration, so far, of marriages that are ongoing. Estimate the hazard and survival curve for the duration of marriage.\n",
    "Use resampling to take into account sampling weights, and plot data from several resamples to visualize sampling error.\n",
    "Consider dividing the respondents into groups by decade of birth, and pos- sibly by age at first marriage."
   ]
  },
  {
   "cell_type": "code",
   "execution_count": 4,
   "id": "0b1b3a9c",
   "metadata": {},
   "outputs": [
    {
     "data": {
      "image/png": "[encoded data removed]",
      "text/plain": [
       "<Figure size 432x288 with 1 Axes>"
      ]
     },
     "metadata": {
      "needs_background": "light"
     },
     "output_type": "display_data"
    },
    {
     "data": {
      "text/plain": [
       "<Figure size 576x432 with 0 Axes>"
      ]
     },
     "metadata": {},
     "output_type": "display_data"
    }
   ],
   "source": [
    "from __future__ import print_function\n",
    "\n",
    "import pandas\n",
    "import numpy as np\n",
    "\n",
    "import thinkplot\n",
    "import thinkstats2\n",
    "import survival\n",
    "\n",
    "\n",
    "def CleanData(resp):\n",
    "    \"\"\"Function for cleaning the respondant data\"\"\"\n",
    "    \n",
    "    resp.cmdivorcx.replace([9998, 9999], np.nan, inplace=True)\n",
    "\n",
    "    resp['notdivorced'] = resp.cmdivorcx.isnull().astype(int)\n",
    "    resp['duration'] = (resp.cmdivorcx - resp.cmmarrhx) / 12.0\n",
    "    resp['durationsofar'] = (resp.cmintvw - resp.cmmarrhx) / 12.0\n",
    "\n",
    "    month0 = pandas.to_datetime('1899-12-15')\n",
    "    dates = [month0 + pandas.DateOffset(months=cm) \n",
    "             for cm in resp.cmbirth]\n",
    "    resp['decade'] = (pandas.DatetimeIndex(dates).year - 1900) // 10\n",
    "\n",
    "\n",
    "\n",
    "\n",
    "def ResampleDivorceCurveByDecade(resps):\n",
    "    \"\"\"Function for plotting divorce curves for each birth cohort. \"\"\"\n",
    "    \n",
    "    for i in range(41):\n",
    "        samples = [thinkstats2.ResampleRowsWeighted(resp) \n",
    "                   for resp in resps]\n",
    "        sample = pandas.concat(samples, ignore_index=True)\n",
    "        groups = sample.groupby('decade')\n",
    "        if i == 0:\n",
    "            survival.AddLabelsByDecade(groups, alpha=0.7)\n",
    "\n",
    "        EstimateSurvivalByDecade(groups, alpha=0.1)\n",
    "\n",
    "    thinkplot.Show(root='survival7',\n",
    "                   xlabel='years',\n",
    "                   axis=[0, 28, 0, 1])\n",
    "\n",
    "\n",
    "def EstimateSurvivalByDecade(groups, **options):\n",
    "    \"\"\"Function for grouping respondents by decade and plotting survival curves.\"\"\"\n",
    "    \n",
    "    thinkplot.PrePlot(len(groups))\n",
    "    for name, group in groups:\n",
    "        _, sf = EstimateSurvival(group)\n",
    "        thinkplot.Plot(sf, **options)\n",
    "\n",
    "\n",
    "def EstimateSurvival(resp):\n",
    "    \"\"\"Function for estimating the survival curve.\"\"\"\n",
    "    \n",
    "    complete = resp[resp.notdivorced == 0].duration.notnull()\n",
    "    ongoing = resp[resp.notdivorced == 1].durationsofar.notnull()\n",
    "    hf = survival.EstimateHazardFunction(complete, ongoing)\n",
    "    sf = hf.MakeSurvival()\n",
    "\n",
    "    return hf, sf\n",
    "\n",
    "\n",
    "def main():\n",
    "    resp6 = survival.ReadFemResp2002()\n",
    "    CleanData(resp6)\n",
    "    married6 = resp6[resp6.evrmarry==1]\n",
    "\n",
    "    resp7 = survival.ReadFemResp2010()\n",
    "    CleanData(resp7)\n",
    "    married7 = resp7[resp7.evrmarry==1]\n",
    "\n",
    "    ResampleDivorceCurveByDecade([married6, married7])\n",
    "\n",
    "\n",
    "if __name__ == '__main__':\n",
    "    main()"
   ]
  },
  {
   "cell_type": "code",
   "execution_count": null,
   "id": "8765efcf",
   "metadata": {},
   "outputs": [],
   "source": []
  }
 ],
 "metadata": {
  "kernelspec": {
   "display_name": "Python 3",
   "language": "python",
   "name": "python3"
  },
  "language_info": {
   "codemirror_mode": {
    "name": "ipython",
    "version": 3
   },
   "file_extension": ".py",
   "mimetype": "text/x-python",
   "name": "python",
   "nbconvert_exporter": "python",
   "pygments_lexer": "ipython3",
   "version": "3.8.8"
  }
 },
 "nbformat": 4,
 "nbformat_minor": 5
}
